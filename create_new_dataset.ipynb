{
  "nbformat": 4,
  "nbformat_minor": 0,
  "metadata": {
    "colab": {
      "provenance": [],
      "authorship_tag": "ABX9TyNxOhh1BB3dFai3f0L1GT7F",
      "include_colab_link": true
    },
    "kernelspec": {
      "name": "python3",
      "display_name": "Python 3"
    },
    "language_info": {
      "name": "python"
    }
  },
  "cells": [
    {
      "cell_type": "markdown",
      "metadata": {
        "id": "view-in-github",
        "colab_type": "text"
      },
      "source": [
        "<a href=\"https://colab.research.google.com/github/ValentinCord/DL_TimeSformer/blob/main/create_new_dataset.ipynb\" target=\"_parent\"><img src=\"https://colab.research.google.com/assets/colab-badge.svg\" alt=\"Open In Colab\"/></a>"
      ]
    },
    {
      "cell_type": "markdown",
      "source": [
        "# **Adding new dataset**\n",
        "\n",
        "Source : https://mmaction2.readthedocs.io/en/latest/tutorials/3_new_dataset.html\n"
      ],
      "metadata": {
        "id": "DfrMj15Q-4Sv"
      }
    },
    {
      "cell_type": "code",
      "execution_count": 10,
      "metadata": {
        "id": "gjfE2KFm54lf"
      },
      "outputs": [],
      "source": [
        "import os\n",
        "import shutil\n",
        "from tqdm import tqdm\n",
        "from google.colab import drive"
      ]
    },
    {
      "cell_type": "code",
      "source": [
        "drive.mount('/content/gdrive')\n",
        "drive_data_folder = '/content/gdrive/MyDrive/action_video/'"
      ],
      "metadata": {
        "id": "e3kmS9XP6ID8"
      },
      "execution_count": null,
      "outputs": []
    },
    {
      "cell_type": "code",
      "source": [
        "for dir in os.listdir(drive_data_folder):\n",
        "  print(dir, len(os.listdir(os.path.join(drive_data_folder, dir))))"
      ],
      "metadata": {
        "colab": {
          "base_uri": "https://localhost:8080/"
        },
        "id": "-f-6RuG-6MQh",
        "outputId": "9e6efe20-ef38-4c68-da3a-5e9ceeebf31f"
      },
      "execution_count": 3,
      "outputs": [
        {
          "output_type": "stream",
          "name": "stdout",
          "text": [
            "Bucket-Worker 468\n",
            "Cabin-Worker 320\n",
            "Other 504\n",
            "Track-Excavator 352\n"
          ]
        }
      ]
    },
    {
      "cell_type": "code",
      "source": [
        "with open('action.txt', 'w') as f:\n",
        "  for i, dir in enumerate(os.listdir(drive_data_folder)):\n",
        "    for video in reversed(os.listdir(os.path.join(drive_data_folder, dir))):\n",
        "      f.write(f'{os.path.join(drive_data_folder, dir, video)} {i}\\n')"
      ],
      "metadata": {
        "id": "afjhrUck6QAE"
      },
      "execution_count": null,
      "outputs": []
    },
    {
      "cell_type": "code",
      "source": [
        "!wc -l action.txt"
      ],
      "metadata": {
        "id": "1nbDpPPtAbf4"
      },
      "execution_count": null,
      "outputs": []
    },
    {
      "cell_type": "code",
      "source": [
        "!cat action.txt | shuf > action.txt"
      ],
      "metadata": {
        "id": "z8xQ-2dyBEtU"
      },
      "execution_count": null,
      "outputs": []
    },
    {
      "cell_type": "code",
      "source": [
        "!head -1444 actions.txt > custom_train_list.txt\n",
        "!tail -200 action.txt > custom_val_list.txt"
      ],
      "metadata": {
        "id": "YZJar2nVApos"
      },
      "execution_count": null,
      "outputs": []
    },
    {
      "cell_type": "code",
      "source": [
        "dataset_type = 'VideoDataset'\n",
        "data_root = 'content/data'\n",
        "ann_file_train = 'content/data/custom/custom_train_list.txt'\n",
        "ann_file_val = 'content/data/custom/custom_val_list.txt'\n",
        "ann_file_test = 'content/data/custom/custom_val_list.txt'"
      ],
      "metadata": {
        "id": "a25ELDwYB-xg"
      },
      "execution_count": null,
      "outputs": []
    }
  ]
}