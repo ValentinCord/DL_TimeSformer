{
  "nbformat": 4,
  "nbformat_minor": 0,
  "metadata": {
    "colab": {
      "provenance": [],
      "authorship_tag": "ABX9TyPjBAhztivimBT9XSU8FK+T",
      "include_colab_link": true
    },
    "kernelspec": {
      "name": "python3",
      "display_name": "Python 3"
    },
    "language_info": {
      "name": "python"
    },
    "accelerator": "GPU",
    "gpuClass": "standard"
  },
  "cells": [
    {
      "cell_type": "markdown",
      "metadata": {
        "id": "view-in-github",
        "colab_type": "text"
      },
      "source": [
        "<a href=\"https://colab.research.google.com/github/ValentinCord/DL_TimeSformer/blob/main/mmaction2_helloworld.ipynb\" target=\"_parent\"><img src=\"https://colab.research.google.com/assets/colab-badge.svg\" alt=\"Open In Colab\"/></a>"
      ]
    },
    {
      "cell_type": "markdown",
      "source": [
        "Source : https://www.kaggle.com/code/alejopaullier/mmaction2-demo"
      ],
      "metadata": {
        "id": "E-bdCX7w4Olx"
      }
    },
    {
      "cell_type": "markdown",
      "source": [
        "# **Install dependencies**\n",
        "\n",
        "\n",
        "---\n",
        "\n"
      ],
      "metadata": {
        "id": "PySWXlbA3KYW"
      }
    },
    {
      "cell_type": "code",
      "execution_count": null,
      "metadata": {
        "id": "uWmNL5nP24QP"
      },
      "outputs": [],
      "source": [
        "!pip3 install openmim\n",
        "!mim install mmcv-full\n",
        "!mim install mmdet\n",
        "!git clone https://github.com/open-mmlab/mmaction2.git"
      ]
    },
    {
      "cell_type": "markdown",
      "source": [
        "# **Install requirements**\n",
        "\n",
        "\n",
        "---\n",
        "\n"
      ],
      "metadata": {
        "id": "6XveeSE_3Qwc"
      }
    },
    {
      "cell_type": "code",
      "source": [
        "%cd mmaction2\n",
        "%pip install -e ."
      ],
      "metadata": {
        "id": "J6wpQI633aA5"
      },
      "execution_count": null,
      "outputs": []
    },
    {
      "cell_type": "markdown",
      "source": [
        "# **Import mmaction2**\n",
        "\n",
        "\n",
        "---\n",
        "\n"
      ],
      "metadata": {
        "id": "hNubqFY13XNZ"
      }
    },
    {
      "cell_type": "code",
      "source": [
        "from mmaction.apis import init_recognizer, inference_recognizer"
      ],
      "metadata": {
        "id": "i5JT7ztD3gdC"
      },
      "execution_count": null,
      "outputs": []
    },
    {
      "cell_type": "markdown",
      "source": [
        "# **Download checkpoint**\n",
        "\n",
        "\n",
        "---\n",
        "\n"
      ],
      "metadata": {
        "id": "4c5K6Rwn3jEE"
      }
    },
    {
      "cell_type": "code",
      "source": [
        "!wget https://download.openmmlab.com/mmaction/recognition/tsn/tsn_r50_1x1x3_100e_kinetics400_rgb/tsn_r50_1x1x3_100e_kinetics400_rgb_20200614-e508be42.pth\n",
        "!mkdir checkpoints\n",
        "!mv tsn_r50_1x1x3_100e_kinetics400_rgb_20200614-e508be42.pth checkpoints/tsn_r50_1x1x3_100e_kinetics400_rgb_20200614-e508be42.pth"
      ],
      "metadata": {
        "id": "k6nea3633iax"
      },
      "execution_count": null,
      "outputs": []
    },
    {
      "cell_type": "markdown",
      "source": [
        "# **State configuration**\n",
        "\n",
        "\n",
        "---\n",
        "\n"
      ],
      "metadata": {
        "id": "zQ7pknyw3qci"
      }
    },
    {
      "cell_type": "code",
      "source": [
        "config_file = './configs/recognition/tsn/tsn_r50_video_inference_1x1x3_100e_kinetics400_rgb.py'\n",
        "checkpoint_file = './checkpoints/tsn_r50_1x1x3_100e_kinetics400_rgb_20200614-e508be42.pth'"
      ],
      "metadata": {
        "id": "L6H4ess_3tCq"
      },
      "execution_count": 5,
      "outputs": []
    },
    {
      "cell_type": "markdown",
      "source": [
        "# **Build the model**\n",
        "\n",
        "\n",
        "---\n",
        "\n"
      ],
      "metadata": {
        "id": "WJ0ozQKj3vRO"
      }
    },
    {
      "cell_type": "code",
      "source": [
        "model = init_recognizer(config_file, checkpoint_file, device='cpu')"
      ],
      "metadata": {
        "id": "nXsUP0oA3vYx"
      },
      "execution_count": null,
      "outputs": []
    },
    {
      "cell_type": "markdown",
      "source": [
        "# **Test a single video**\n",
        "\n",
        "\n",
        "---\n",
        "\n"
      ],
      "metadata": {
        "id": "vrXqTm5G31tJ"
      }
    },
    {
      "cell_type": "code",
      "source": [
        "video = './demo/demo.mp4'\n",
        "label = './tools/data/kinetics/label_map_k400.txt'\n",
        "results = inference_recognizer(model, video)\n",
        "\n",
        "labels = open(label).readlines()\n",
        "labels = [x.strip() for x in labels]\n",
        "results = [(labels[k[0]], k[1]) for k in results]"
      ],
      "metadata": {
        "id": "7BZatUAF3108"
      },
      "execution_count": 7,
      "outputs": []
    },
    {
      "cell_type": "markdown",
      "source": [
        "# **Show video**\n",
        "\n",
        "\n",
        "---\n",
        "\n"
      ],
      "metadata": {
        "id": "78pgmywb39RN"
      }
    },
    {
      "cell_type": "code",
      "source": [
        "from IPython.display import Video\n",
        "Video('/kaggle/working/mmaction2/demo/demo.mp4', embed=True)"
      ],
      "metadata": {
        "colab": {
          "base_uri": "https://localhost:8080/",
          "height": 171
        },
        "id": "ELxvVcUb39V_",
        "outputId": "ee3e3cec-15a9-4b38-f26b-bd64f5e54864"
      },
      "execution_count": 8,
      "outputs": [
        {
          "output_type": "execute_result",
          "data": {
            "text/plain": [
              "<IPython.core.display.Video object>"
            ],
            "text/html": [
              "<video controls  >\n",
              " <source src=\"data:None;base64,/kaggle/working/mmaction2/demo/demo.mp4\" type=\"None\">\n",
              " Your browser does not support the video tag.\n",
              " </video>"
            ]
          },
          "metadata": {},
          "execution_count": 8
        }
      ]
    },
    {
      "cell_type": "markdown",
      "source": [
        "# **Show the results**\n",
        "\n",
        "\n",
        "---\n",
        "\n"
      ],
      "metadata": {
        "id": "2I99qkgt4DD9"
      }
    },
    {
      "cell_type": "code",
      "source": [
        "for result in results:\n",
        "    print(f'{result[0]}: ', result[1])"
      ],
      "metadata": {
        "colab": {
          "base_uri": "https://localhost:8080/"
        },
        "id": "H8aZcvPy4Cpt",
        "outputId": "c9a5896a-fc13-4330-dd44-d6b132a08be5"
      },
      "execution_count": 9,
      "outputs": [
        {
          "output_type": "stream",
          "name": "stdout",
          "text": [
            "arm wrestling:  29.616436\n",
            "rock scissors paper:  10.754839\n",
            "shaking hands:  9.908399\n",
            "clapping:  9.189911\n",
            "massaging feet:  8.305308\n"
          ]
        }
      ]
    }
  ]
}