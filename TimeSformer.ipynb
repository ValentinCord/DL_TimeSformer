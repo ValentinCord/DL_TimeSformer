{
  "nbformat": 4,
  "nbformat_minor": 0,
  "metadata": {
    "colab": {
      "provenance": [],
      "authorship_tag": "ABX9TyOT98CE6JWJH1dD6jQoS1qP",
      "include_colab_link": true
    },
    "kernelspec": {
      "name": "python3",
      "display_name": "Python 3"
    },
    "language_info": {
      "name": "python"
    },
    "accelerator": "GPU",
    "gpuClass": "standard",
    "widgets": {
      "application/vnd.jupyter.widget-state+json": {
        "287f2e8a198d40ea95c6d20d21382bc0": {
          "model_module": "@jupyter-widgets/controls",
          "model_name": "HBoxModel",
          "model_module_version": "1.5.0",
          "state": {
            "_dom_classes": [],
            "_model_module": "@jupyter-widgets/controls",
            "_model_module_version": "1.5.0",
            "_model_name": "HBoxModel",
            "_view_count": null,
            "_view_module": "@jupyter-widgets/controls",
            "_view_module_version": "1.5.0",
            "_view_name": "HBoxView",
            "box_style": "",
            "children": [
              "IPY_MODEL_97bb472f505d400bb8e17682b8713fe3",
              "IPY_MODEL_f66c855adfeb4e5db31328b5f38989de",
              "IPY_MODEL_410f747eca5c451f9fc278cfe6b3727a"
            ],
            "layout": "IPY_MODEL_77ce828d994b47c39501d02b911ee67c"
          }
        },
        "97bb472f505d400bb8e17682b8713fe3": {
          "model_module": "@jupyter-widgets/controls",
          "model_name": "HTMLModel",
          "model_module_version": "1.5.0",
          "state": {
            "_dom_classes": [],
            "_model_module": "@jupyter-widgets/controls",
            "_model_module_version": "1.5.0",
            "_model_name": "HTMLModel",
            "_view_count": null,
            "_view_module": "@jupyter-widgets/controls",
            "_view_module_version": "1.5.0",
            "_view_name": "HTMLView",
            "description": "",
            "description_tooltip": null,
            "layout": "IPY_MODEL_d2f9fee5b9084b2d95f3df3661afcec0",
            "placeholder": "​",
            "style": "IPY_MODEL_a6dd976b3797413982563d6baf0ff3ce",
            "value": "100%"
          }
        },
        "f66c855adfeb4e5db31328b5f38989de": {
          "model_module": "@jupyter-widgets/controls",
          "model_name": "FloatProgressModel",
          "model_module_version": "1.5.0",
          "state": {
            "_dom_classes": [],
            "_model_module": "@jupyter-widgets/controls",
            "_model_module_version": "1.5.0",
            "_model_name": "FloatProgressModel",
            "_view_count": null,
            "_view_module": "@jupyter-widgets/controls",
            "_view_module_version": "1.5.0",
            "_view_name": "ProgressView",
            "bar_style": "success",
            "description": "",
            "description_tooltip": null,
            "layout": "IPY_MODEL_8027ed0aa4c64467b1f410e17e1fac39",
            "max": 343246859,
            "min": 0,
            "orientation": "horizontal",
            "style": "IPY_MODEL_781f9fdd2dde4bf2be7e358d47b38791",
            "value": 343246859
          }
        },
        "410f747eca5c451f9fc278cfe6b3727a": {
          "model_module": "@jupyter-widgets/controls",
          "model_name": "HTMLModel",
          "model_module_version": "1.5.0",
          "state": {
            "_dom_classes": [],
            "_model_module": "@jupyter-widgets/controls",
            "_model_module_version": "1.5.0",
            "_model_name": "HTMLModel",
            "_view_count": null,
            "_view_module": "@jupyter-widgets/controls",
            "_view_module_version": "1.5.0",
            "_view_name": "HTMLView",
            "description": "",
            "description_tooltip": null,
            "layout": "IPY_MODEL_46fef828414f48059b326a6dfa8298c0",
            "placeholder": "​",
            "style": "IPY_MODEL_ead9119c38c34881b3cd835f0b50f231",
            "value": " 327M/327M [00:04&lt;00:00, 88.3MB/s]"
          }
        },
        "77ce828d994b47c39501d02b911ee67c": {
          "model_module": "@jupyter-widgets/base",
          "model_name": "LayoutModel",
          "model_module_version": "1.2.0",
          "state": {
            "_model_module": "@jupyter-widgets/base",
            "_model_module_version": "1.2.0",
            "_model_name": "LayoutModel",
            "_view_count": null,
            "_view_module": "@jupyter-widgets/base",
            "_view_module_version": "1.2.0",
            "_view_name": "LayoutView",
            "align_content": null,
            "align_items": null,
            "align_self": null,
            "border": null,
            "bottom": null,
            "display": null,
            "flex": null,
            "flex_flow": null,
            "grid_area": null,
            "grid_auto_columns": null,
            "grid_auto_flow": null,
            "grid_auto_rows": null,
            "grid_column": null,
            "grid_gap": null,
            "grid_row": null,
            "grid_template_areas": null,
            "grid_template_columns": null,
            "grid_template_rows": null,
            "height": null,
            "justify_content": null,
            "justify_items": null,
            "left": null,
            "margin": null,
            "max_height": null,
            "max_width": null,
            "min_height": null,
            "min_width": null,
            "object_fit": null,
            "object_position": null,
            "order": null,
            "overflow": null,
            "overflow_x": null,
            "overflow_y": null,
            "padding": null,
            "right": null,
            "top": null,
            "visibility": null,
            "width": null
          }
        },
        "d2f9fee5b9084b2d95f3df3661afcec0": {
          "model_module": "@jupyter-widgets/base",
          "model_name": "LayoutModel",
          "model_module_version": "1.2.0",
          "state": {
            "_model_module": "@jupyter-widgets/base",
            "_model_module_version": "1.2.0",
            "_model_name": "LayoutModel",
            "_view_count": null,
            "_view_module": "@jupyter-widgets/base",
            "_view_module_version": "1.2.0",
            "_view_name": "LayoutView",
            "align_content": null,
            "align_items": null,
            "align_self": null,
            "border": null,
            "bottom": null,
            "display": null,
            "flex": null,
            "flex_flow": null,
            "grid_area": null,
            "grid_auto_columns": null,
            "grid_auto_flow": null,
            "grid_auto_rows": null,
            "grid_column": null,
            "grid_gap": null,
            "grid_row": null,
            "grid_template_areas": null,
            "grid_template_columns": null,
            "grid_template_rows": null,
            "height": null,
            "justify_content": null,
            "justify_items": null,
            "left": null,
            "margin": null,
            "max_height": null,
            "max_width": null,
            "min_height": null,
            "min_width": null,
            "object_fit": null,
            "object_position": null,
            "order": null,
            "overflow": null,
            "overflow_x": null,
            "overflow_y": null,
            "padding": null,
            "right": null,
            "top": null,
            "visibility": null,
            "width": null
          }
        },
        "a6dd976b3797413982563d6baf0ff3ce": {
          "model_module": "@jupyter-widgets/controls",
          "model_name": "DescriptionStyleModel",
          "model_module_version": "1.5.0",
          "state": {
            "_model_module": "@jupyter-widgets/controls",
            "_model_module_version": "1.5.0",
            "_model_name": "DescriptionStyleModel",
            "_view_count": null,
            "_view_module": "@jupyter-widgets/base",
            "_view_module_version": "1.2.0",
            "_view_name": "StyleView",
            "description_width": ""
          }
        },
        "8027ed0aa4c64467b1f410e17e1fac39": {
          "model_module": "@jupyter-widgets/base",
          "model_name": "LayoutModel",
          "model_module_version": "1.2.0",
          "state": {
            "_model_module": "@jupyter-widgets/base",
            "_model_module_version": "1.2.0",
            "_model_name": "LayoutModel",
            "_view_count": null,
            "_view_module": "@jupyter-widgets/base",
            "_view_module_version": "1.2.0",
            "_view_name": "LayoutView",
            "align_content": null,
            "align_items": null,
            "align_self": null,
            "border": null,
            "bottom": null,
            "display": null,
            "flex": null,
            "flex_flow": null,
            "grid_area": null,
            "grid_auto_columns": null,
            "grid_auto_flow": null,
            "grid_auto_rows": null,
            "grid_column": null,
            "grid_gap": null,
            "grid_row": null,
            "grid_template_areas": null,
            "grid_template_columns": null,
            "grid_template_rows": null,
            "height": null,
            "justify_content": null,
            "justify_items": null,
            "left": null,
            "margin": null,
            "max_height": null,
            "max_width": null,
            "min_height": null,
            "min_width": null,
            "object_fit": null,
            "object_position": null,
            "order": null,
            "overflow": null,
            "overflow_x": null,
            "overflow_y": null,
            "padding": null,
            "right": null,
            "top": null,
            "visibility": null,
            "width": null
          }
        },
        "781f9fdd2dde4bf2be7e358d47b38791": {
          "model_module": "@jupyter-widgets/controls",
          "model_name": "ProgressStyleModel",
          "model_module_version": "1.5.0",
          "state": {
            "_model_module": "@jupyter-widgets/controls",
            "_model_module_version": "1.5.0",
            "_model_name": "ProgressStyleModel",
            "_view_count": null,
            "_view_module": "@jupyter-widgets/base",
            "_view_module_version": "1.2.0",
            "_view_name": "StyleView",
            "bar_color": null,
            "description_width": ""
          }
        },
        "46fef828414f48059b326a6dfa8298c0": {
          "model_module": "@jupyter-widgets/base",
          "model_name": "LayoutModel",
          "model_module_version": "1.2.0",
          "state": {
            "_model_module": "@jupyter-widgets/base",
            "_model_module_version": "1.2.0",
            "_model_name": "LayoutModel",
            "_view_count": null,
            "_view_module": "@jupyter-widgets/base",
            "_view_module_version": "1.2.0",
            "_view_name": "LayoutView",
            "align_content": null,
            "align_items": null,
            "align_self": null,
            "border": null,
            "bottom": null,
            "display": null,
            "flex": null,
            "flex_flow": null,
            "grid_area": null,
            "grid_auto_columns": null,
            "grid_auto_flow": null,
            "grid_auto_rows": null,
            "grid_column": null,
            "grid_gap": null,
            "grid_row": null,
            "grid_template_areas": null,
            "grid_template_columns": null,
            "grid_template_rows": null,
            "height": null,
            "justify_content": null,
            "justify_items": null,
            "left": null,
            "margin": null,
            "max_height": null,
            "max_width": null,
            "min_height": null,
            "min_width": null,
            "object_fit": null,
            "object_position": null,
            "order": null,
            "overflow": null,
            "overflow_x": null,
            "overflow_y": null,
            "padding": null,
            "right": null,
            "top": null,
            "visibility": null,
            "width": null
          }
        },
        "ead9119c38c34881b3cd835f0b50f231": {
          "model_module": "@jupyter-widgets/controls",
          "model_name": "DescriptionStyleModel",
          "model_module_version": "1.5.0",
          "state": {
            "_model_module": "@jupyter-widgets/controls",
            "_model_module_version": "1.5.0",
            "_model_name": "DescriptionStyleModel",
            "_view_count": null,
            "_view_module": "@jupyter-widgets/base",
            "_view_module_version": "1.2.0",
            "_view_name": "StyleView",
            "description_width": ""
          }
        }
      }
    }
  },
  "cells": [
    {
      "cell_type": "markdown",
      "metadata": {
        "id": "view-in-github",
        "colab_type": "text"
      },
      "source": [
        "<a href=\"https://colab.research.google.com/github/ValentinCord/DL_TimeSformer/blob/main/TimeSformer.ipynb\" target=\"_parent\"><img src=\"https://colab.research.google.com/assets/colab-badge.svg\" alt=\"Open In Colab\"/></a>"
      ]
    },
    {
      "cell_type": "markdown",
      "source": [
        "# **Main Resources**\n",
        "\n",
        "---\n",
        "\n",
        "\n",
        "*   MMACTION2 Tutorial : https://github.com/open-mmlab/mmaction2/blob/master/demo/mmaction2_tutorial.ipynb\n",
        "*   MMACTION2 TimeSformer : https://www.kaggle.com/code/thousandtie/mmaction2-timesformer-fold1-ucf101 \n",
        "* MMACTIONS2 Tools : https://github.com/open-mmlab/mmaction2/tree/master/tools\n"
      ],
      "metadata": {
        "id": "WblRxolK_JKc"
      }
    },
    {
      "cell_type": "markdown",
      "source": [
        "# **Install MMACTION2**\n",
        "\n",
        "---\n",
        "\n"
      ],
      "metadata": {
        "id": "Pvx4acFO_Dfs"
      }
    },
    {
      "cell_type": "code",
      "execution_count": 1,
      "metadata": {
        "colab": {
          "base_uri": "https://localhost:8080/"
        },
        "id": "EAKqrMYC-3JQ",
        "outputId": "20102fce-3062-42e4-891d-cc21939a5b29"
      },
      "outputs": [
        {
          "output_type": "stream",
          "name": "stdout",
          "text": [
            "nvcc: NVIDIA (R) Cuda compiler driver\n",
            "Copyright (c) 2005-2021 NVIDIA Corporation\n",
            "Built on Sun_Feb_14_21:12:58_PST_2021\n",
            "Cuda compilation tools, release 11.2, V11.2.152\n",
            "Build cuda_11.2.r11.2/compiler.29618528_0\n",
            "gcc (Ubuntu 9.4.0-1ubuntu1~20.04.1) 9.4.0\n",
            "Copyright (C) 2019 Free Software Foundation, Inc.\n",
            "This is free software; see the source for copying conditions.  There is NO\n",
            "warranty; not even for MERCHANTABILITY or FITNESS FOR A PARTICULAR PURPOSE.\n",
            "\n"
          ]
        }
      ],
      "source": [
        "!nvcc -V # Check nvcc version\n",
        "!gcc --version # Check GCC version"
      ]
    },
    {
      "cell_type": "code",
      "source": [
        "# install dependencies: (use cu111 because colab has CUDA 11.1)\n",
        "!pip install torch==1.9.0+cu111 torchvision==0.10.0+cu111 -f https://download.pytorch.org/whl/torch_stable.html\n",
        "\n",
        "# install mmcv-full thus we could use CUDA operators\n",
        "!pip install mmcv-full -f https://download.openmmlab.com/mmcv/dist/cu111/torch1.9.0/index.html\n",
        "\n",
        "# Install mmaction2\n",
        "!rm -rf mmaction2\n",
        "!git clone https://github.com/open-mmlab/mmaction2.git\n",
        "%cd mmaction2\n",
        "\n",
        "!pip install -e .\n",
        "\n",
        "# Install some optional requirements\n",
        "!pip install -r requirements/optional.txt"
      ],
      "metadata": {
        "colab": {
          "base_uri": "https://localhost:8080/"
        },
        "id": "q9jigsv2_lYM",
        "outputId": "2eefc7bb-b6d4-4ea7-ac40-664a2e2244b9"
      },
      "execution_count": 2,
      "outputs": [
        {
          "output_type": "stream",
          "name": "stdout",
          "text": [
            "Looking in indexes: https://pypi.org/simple, https://us-python.pkg.dev/colab-wheels/public/simple/\n",
            "Looking in links: https://download.pytorch.org/whl/torch_stable.html\n",
            "Collecting torch==1.9.0+cu111\n",
            "  Downloading https://download.pytorch.org/whl/cu111/torch-1.9.0%2Bcu111-cp38-cp38-linux_x86_64.whl (2041.3 MB)\n",
            "\u001b[2K     \u001b[91m━━━━━━━━━━━━━━━━━━━━━━━━━━━━━━━━━━━━━━━\u001b[0m\u001b[91m╸\u001b[0m \u001b[32m2.0/2.0 GB\u001b[0m \u001b[31m63.7 MB/s\u001b[0m eta \u001b[36m0:00:01\u001b[0mtcmalloc: large alloc 2041339904 bytes == 0x353e000 @  0x7f7cea87b680 0x7f7cea89c824 0x5b3128 0x5bbc90 0x5f714c 0x64d800 0x527022 0x504866 0x56bbe1 0x569d8a 0x5f60c3 0x56bbe1 0x569d8a 0x5f60c3 0x56bbe1 0x569d8a 0x5f60c3 0x56bbe1 0x569d8a 0x5f60c3 0x56bbe1 0x569d8a 0x5f60c3 0x56bbe1 0x5f5ee6 0x56bbe1 0x569d8a 0x5f60c3 0x56cc92 0x569d8a 0x5f60c3\n",
            "\u001b[2K     \u001b[91m━━━━━━━━━━━━━━━━━━━━━━━━━━━━━━━━━━━━━━━\u001b[0m\u001b[91m╸\u001b[0m \u001b[32m2.0/2.0 GB\u001b[0m \u001b[31m71.7 MB/s\u001b[0m eta \u001b[36m0:00:01\u001b[0mtcmalloc: large alloc 2551676928 bytes == 0x7d004000 @  0x7f7cea87b680 0x7f7cea89bda2 0x5f714c 0x64d800 0x527022 0x504866 0x56bbe1 0x569d8a 0x5f60c3 0x56bbe1 0x569d8a 0x5f60c3 0x56bbe1 0x569d8a 0x5f60c3 0x56bbe1 0x569d8a 0x5f60c3 0x56bbe1 0x569d8a 0x5f60c3 0x56bbe1 0x5f5ee6 0x56bbe1 0x569d8a 0x5f60c3 0x56cc92 0x569d8a 0x5f60c3 0x56bbe1 0x569d8a\n",
            "tcmalloc: large alloc 2041339904 bytes == 0x353e000 @  0x7f7cea87b680 0x7f7cea89c824 0x5f97c1 0x5f8ecc 0x504866 0x56bbe1 0x569d8a 0x5f60c3 0x56bbe1 0x569d8a 0x5f60c3 0x50b32c 0x5f6b7b 0x66731d 0x5f6706 0x571143 0x50b22e 0x570b82 0x569d8a 0x50b3a0 0x570b82 0x569d8a 0x50b3a0 0x56cc92 0x501044 0x56be83 0x501044 0x56be83 0x501044 0x56be83 0x5f5ee6\n",
            "\u001b[2K     \u001b[90m━━━━━━━━━━━━━━━━━━━━━━━━━━━━━━━━━━━━━━━━\u001b[0m \u001b[32m2.0/2.0 GB\u001b[0m \u001b[31m866.8 kB/s\u001b[0m eta \u001b[36m0:00:00\u001b[0m\n",
            "\u001b[?25hCollecting torchvision==0.10.0+cu111\n",
            "  Downloading https://download.pytorch.org/whl/cu111/torchvision-0.10.0%2Bcu111-cp38-cp38-linux_x86_64.whl (23.2 MB)\n",
            "\u001b[2K     \u001b[90m━━━━━━━━━━━━━━━━━━━━━━━━━━━━━━━━━━━━━━━━\u001b[0m \u001b[32m23.2/23.2 MB\u001b[0m \u001b[31m48.4 MB/s\u001b[0m eta \u001b[36m0:00:00\u001b[0m\n",
            "\u001b[?25hRequirement already satisfied: typing-extensions in /usr/local/lib/python3.8/dist-packages (from torch==1.9.0+cu111) (4.4.0)\n",
            "Requirement already satisfied: numpy in /usr/local/lib/python3.8/dist-packages (from torchvision==0.10.0+cu111) (1.21.6)\n",
            "Requirement already satisfied: pillow>=5.3.0 in /usr/local/lib/python3.8/dist-packages (from torchvision==0.10.0+cu111) (7.1.2)\n",
            "Installing collected packages: torch, torchvision\n",
            "  Attempting uninstall: torch\n",
            "    Found existing installation: torch 1.13.1+cu116\n",
            "    Uninstalling torch-1.13.1+cu116:\n",
            "      Successfully uninstalled torch-1.13.1+cu116\n",
            "  Attempting uninstall: torchvision\n",
            "    Found existing installation: torchvision 0.14.1+cu116\n",
            "    Uninstalling torchvision-0.14.1+cu116:\n",
            "      Successfully uninstalled torchvision-0.14.1+cu116\n",
            "\u001b[31mERROR: pip's dependency resolver does not currently take into account all the packages that are installed. This behaviour is the source of the following dependency conflicts.\n",
            "torchtext 0.14.1 requires torch==1.13.1, but you have torch 1.9.0+cu111 which is incompatible.\n",
            "torchaudio 0.13.1+cu116 requires torch==1.13.1, but you have torch 1.9.0+cu111 which is incompatible.\u001b[0m\u001b[31m\n",
            "\u001b[0mSuccessfully installed torch-1.9.0+cu111 torchvision-0.10.0+cu111\n",
            "Looking in indexes: https://pypi.org/simple, https://us-python.pkg.dev/colab-wheels/public/simple/\n",
            "Looking in links: https://download.openmmlab.com/mmcv/dist/cu111/torch1.9.0/index.html\n",
            "Collecting mmcv-full\n",
            "  Downloading https://download.openmmlab.com/mmcv/dist/cu111/torch1.9.0/mmcv_full-1.7.1-cp38-cp38-manylinux1_x86_64.whl (49.7 MB)\n",
            "\u001b[2K     \u001b[90m━━━━━━━━━━━━━━━━━━━━━━━━━━━━━━━━━━━━━━━━\u001b[0m \u001b[32m49.7/49.7 MB\u001b[0m \u001b[31m15.2 MB/s\u001b[0m eta \u001b[36m0:00:00\u001b[0m\n",
            "\u001b[?25hRequirement already satisfied: numpy in /usr/local/lib/python3.8/dist-packages (from mmcv-full) (1.21.6)\n",
            "Requirement already satisfied: Pillow in /usr/local/lib/python3.8/dist-packages (from mmcv-full) (7.1.2)\n",
            "Requirement already satisfied: pyyaml in /usr/local/lib/python3.8/dist-packages (from mmcv-full) (6.0)\n",
            "Requirement already satisfied: packaging in /usr/local/lib/python3.8/dist-packages (from mmcv-full) (21.3)\n",
            "Requirement already satisfied: opencv-python>=3 in /usr/local/lib/python3.8/dist-packages (from mmcv-full) (4.6.0.66)\n",
            "Collecting addict\n",
            "  Downloading addict-2.4.0-py3-none-any.whl (3.8 kB)\n",
            "Collecting yapf\n",
            "  Downloading yapf-0.32.0-py2.py3-none-any.whl (190 kB)\n",
            "\u001b[2K     \u001b[90m━━━━━━━━━━━━━━━━━━━━━━━━━━━━━━━━━━━━━━\u001b[0m \u001b[32m190.2/190.2 KB\u001b[0m \u001b[31m13.7 MB/s\u001b[0m eta \u001b[36m0:00:00\u001b[0m\n",
            "\u001b[?25hRequirement already satisfied: pyparsing!=3.0.5,>=2.0.2 in /usr/local/lib/python3.8/dist-packages (from packaging->mmcv-full) (3.0.9)\n",
            "Installing collected packages: yapf, addict, mmcv-full\n",
            "Successfully installed addict-2.4.0 mmcv-full-1.7.1 yapf-0.32.0\n",
            "Cloning into 'mmaction2'...\n",
            "remote: Enumerating objects: 20115, done.\u001b[K\n",
            "remote: Counting objects: 100% (183/183), done.\u001b[K\n",
            "remote: Compressing objects: 100% (155/155), done.\u001b[K\n",
            "remote: Total 20115 (delta 50), reused 75 (delta 27), pack-reused 19932\u001b[K\n",
            "Receiving objects: 100% (20115/20115), 68.00 MiB | 8.99 MiB/s, done.\n",
            "Resolving deltas: 100% (14271/14271), done.\n",
            "/content/mmaction2\n",
            "Looking in indexes: https://pypi.org/simple, https://us-python.pkg.dev/colab-wheels/public/simple/\n",
            "Obtaining file:///content/mmaction2\n",
            "  Preparing metadata (setup.py) ... \u001b[?25l\u001b[?25hdone\n",
            "Collecting decord>=0.4.1\n",
            "  Downloading decord-0.6.0-py3-none-manylinux2010_x86_64.whl (13.6 MB)\n",
            "\u001b[2K     \u001b[90m━━━━━━━━━━━━━━━━━━━━━━━━━━━━━━━━━━━━━━━━\u001b[0m \u001b[32m13.6/13.6 MB\u001b[0m \u001b[31m92.9 MB/s\u001b[0m eta \u001b[36m0:00:00\u001b[0m\n",
            "\u001b[?25hCollecting einops\n",
            "  Downloading einops-0.6.0-py3-none-any.whl (41 kB)\n",
            "\u001b[2K     \u001b[90m━━━━━━━━━━━━━━━━━━━━━━━━━━━━━━━━━━━━━━━━\u001b[0m \u001b[32m41.6/41.6 KB\u001b[0m \u001b[31m5.0 MB/s\u001b[0m eta \u001b[36m0:00:00\u001b[0m\n",
            "\u001b[?25hRequirement already satisfied: matplotlib in /usr/local/lib/python3.8/dist-packages (from mmaction2==0.24.1) (3.2.2)\n",
            "Requirement already satisfied: numpy in /usr/local/lib/python3.8/dist-packages (from mmaction2==0.24.1) (1.21.6)\n",
            "Requirement already satisfied: opencv-contrib-python in /usr/local/lib/python3.8/dist-packages (from mmaction2==0.24.1) (4.6.0.66)\n",
            "Requirement already satisfied: Pillow in /usr/local/lib/python3.8/dist-packages (from mmaction2==0.24.1) (7.1.2)\n",
            "Requirement already satisfied: scipy in /usr/local/lib/python3.8/dist-packages (from mmaction2==0.24.1) (1.7.3)\n",
            "Requirement already satisfied: torch>=1.3 in /usr/local/lib/python3.8/dist-packages (from mmaction2==0.24.1) (1.9.0+cu111)\n",
            "Requirement already satisfied: typing-extensions in /usr/local/lib/python3.8/dist-packages (from torch>=1.3->mmaction2==0.24.1) (4.4.0)\n",
            "Requirement already satisfied: pyparsing!=2.0.4,!=2.1.2,!=2.1.6,>=2.0.1 in /usr/local/lib/python3.8/dist-packages (from matplotlib->mmaction2==0.24.1) (3.0.9)\n",
            "Requirement already satisfied: cycler>=0.10 in /usr/local/lib/python3.8/dist-packages (from matplotlib->mmaction2==0.24.1) (0.11.0)\n",
            "Requirement already satisfied: kiwisolver>=1.0.1 in /usr/local/lib/python3.8/dist-packages (from matplotlib->mmaction2==0.24.1) (1.4.4)\n",
            "Requirement already satisfied: python-dateutil>=2.1 in /usr/local/lib/python3.8/dist-packages (from matplotlib->mmaction2==0.24.1) (2.8.2)\n",
            "Requirement already satisfied: six>=1.5 in /usr/local/lib/python3.8/dist-packages (from python-dateutil>=2.1->matplotlib->mmaction2==0.24.1) (1.15.0)\n",
            "Installing collected packages: einops, decord, mmaction2\n",
            "  Running setup.py develop for mmaction2\n",
            "Successfully installed decord-0.6.0 einops-0.6.0 mmaction2-0.24.1\n",
            "Looking in indexes: https://pypi.org/simple, https://us-python.pkg.dev/colab-wheels/public/simple/\n",
            "Ignoring dataclasses: markers 'python_version == \"3.6\"' don't match your environment\n",
            "Collecting av\n",
            "  Downloading av-10.0.0-cp38-cp38-manylinux_2_17_x86_64.manylinux2014_x86_64.whl (31.4 MB)\n",
            "\u001b[2K     \u001b[90m━━━━━━━━━━━━━━━━━━━━━━━━━━━━━━━━━━━━━━━━\u001b[0m \u001b[32m31.4/31.4 MB\u001b[0m \u001b[31m15.3 MB/s\u001b[0m eta \u001b[36m0:00:00\u001b[0m\n",
            "\u001b[?25hRequirement already satisfied: imgaug in /usr/local/lib/python3.8/dist-packages (from -r requirements/optional.txt (line 3)) (0.4.0)\n",
            "Requirement already satisfied: librosa in /usr/local/lib/python3.8/dist-packages (from -r requirements/optional.txt (line 4)) (0.8.1)\n",
            "Requirement already satisfied: lmdb in /usr/local/lib/python3.8/dist-packages (from -r requirements/optional.txt (line 5)) (0.99)\n",
            "Collecting moviepy==1.0.3\n",
            "  Downloading moviepy-1.0.3.tar.gz (388 kB)\n",
            "\u001b[2K     \u001b[90m━━━━━━━━━━━━━━━━━━━━━━━━━━━━━━━━━━━━━━\u001b[0m \u001b[32m388.3/388.3 KB\u001b[0m \u001b[31m39.3 MB/s\u001b[0m eta \u001b[36m0:00:00\u001b[0m\n",
            "\u001b[?25h  Preparing metadata (setup.py) ... \u001b[?25l\u001b[?25hdone\n",
            "Collecting onnx\n",
            "  Downloading onnx-1.13.0-cp38-cp38-manylinux_2_17_x86_64.manylinux2014_x86_64.whl (13.5 MB)\n",
            "\u001b[2K     \u001b[90m━━━━━━━━━━━━━━━━━━━━━━━━━━━━━━━━━━━━━━━━\u001b[0m \u001b[32m13.5/13.5 MB\u001b[0m \u001b[31m96.6 MB/s\u001b[0m eta \u001b[36m0:00:00\u001b[0m\n",
            "\u001b[?25hCollecting onnxruntime\n",
            "  Downloading onnxruntime-1.13.1-cp38-cp38-manylinux_2_27_x86_64.whl (4.5 MB)\n",
            "\u001b[2K     \u001b[90m━━━━━━━━━━━━━━━━━━━━━━━━━━━━━━━━━━━━━━━━\u001b[0m \u001b[32m4.5/4.5 MB\u001b[0m \u001b[31m110.4 MB/s\u001b[0m eta \u001b[36m0:00:00\u001b[0m\n",
            "\u001b[?25hRequirement already satisfied: packaging in /usr/local/lib/python3.8/dist-packages (from -r requirements/optional.txt (line 9)) (21.3)\n",
            "Collecting pims\n",
            "  Downloading PIMS-0.6.1.tar.gz (86 kB)\n",
            "\u001b[2K     \u001b[90m━━━━━━━━━━━━━━━━━━━━━━━━━━━━━━━━━━━━━━━━\u001b[0m \u001b[32m86.0/86.0 KB\u001b[0m \u001b[31m12.3 MB/s\u001b[0m eta \u001b[36m0:00:00\u001b[0m\n",
            "\u001b[?25h  Preparing metadata (setup.py) ... \u001b[?25l\u001b[?25hdone\n",
            "Collecting PyTurboJPEG\n",
            "  Downloading PyTurboJPEG-1.7.0.tar.gz (11 kB)\n",
            "  Preparing metadata (setup.py) ... \u001b[?25l\u001b[?25hdone\n",
            "Requirement already satisfied: decorator<5.0,>=4.0.2 in /usr/local/lib/python3.8/dist-packages (from moviepy==1.0.3->-r requirements/optional.txt (line 6)) (4.4.2)\n",
            "Requirement already satisfied: tqdm<5.0,>=4.11.2 in /usr/local/lib/python3.8/dist-packages (from moviepy==1.0.3->-r requirements/optional.txt (line 6)) (4.64.1)\n",
            "Requirement already satisfied: requests<3.0,>=2.8.1 in /usr/local/lib/python3.8/dist-packages (from moviepy==1.0.3->-r requirements/optional.txt (line 6)) (2.25.1)\n",
            "Collecting proglog<=1.0.0\n",
            "  Downloading proglog-0.1.10-py3-none-any.whl (6.1 kB)\n",
            "Requirement already satisfied: numpy>=1.17.3 in /usr/local/lib/python3.8/dist-packages (from moviepy==1.0.3->-r requirements/optional.txt (line 6)) (1.21.6)\n",
            "Requirement already satisfied: imageio<3.0,>=2.5 in /usr/local/lib/python3.8/dist-packages (from moviepy==1.0.3->-r requirements/optional.txt (line 6)) (2.9.0)\n",
            "Collecting imageio_ffmpeg>=0.2.0\n",
            "  Downloading imageio_ffmpeg-0.4.8-py3-none-manylinux2010_x86_64.whl (26.9 MB)\n",
            "\u001b[2K     \u001b[90m━━━━━━━━━━━━━━━━━━━━━━━━━━━━━━━━━━━━━━━━\u001b[0m \u001b[32m26.9/26.9 MB\u001b[0m \u001b[31m62.7 MB/s\u001b[0m eta \u001b[36m0:00:00\u001b[0m\n",
            "\u001b[?25hRequirement already satisfied: scipy in /usr/local/lib/python3.8/dist-packages (from imgaug->-r requirements/optional.txt (line 3)) (1.7.3)\n",
            "Requirement already satisfied: Shapely in /usr/local/lib/python3.8/dist-packages (from imgaug->-r requirements/optional.txt (line 3)) (2.0.0)\n",
            "Requirement already satisfied: scikit-image>=0.14.2 in /usr/local/lib/python3.8/dist-packages (from imgaug->-r requirements/optional.txt (line 3)) (0.18.3)\n",
            "Requirement already satisfied: six in /usr/local/lib/python3.8/dist-packages (from imgaug->-r requirements/optional.txt (line 3)) (1.15.0)\n",
            "Requirement already satisfied: Pillow in /usr/local/lib/python3.8/dist-packages (from imgaug->-r requirements/optional.txt (line 3)) (7.1.2)\n",
            "Requirement already satisfied: opencv-python in /usr/local/lib/python3.8/dist-packages (from imgaug->-r requirements/optional.txt (line 3)) (4.6.0.66)\n",
            "Requirement already satisfied: matplotlib in /usr/local/lib/python3.8/dist-packages (from imgaug->-r requirements/optional.txt (line 3)) (3.2.2)\n",
            "Requirement already satisfied: audioread>=2.0.0 in /usr/local/lib/python3.8/dist-packages (from librosa->-r requirements/optional.txt (line 4)) (3.0.0)\n",
            "Requirement already satisfied: soundfile>=0.10.2 in /usr/local/lib/python3.8/dist-packages (from librosa->-r requirements/optional.txt (line 4)) (0.11.0)\n",
            "Requirement already satisfied: joblib>=0.14 in /usr/local/lib/python3.8/dist-packages (from librosa->-r requirements/optional.txt (line 4)) (1.2.0)\n",
            "Requirement already satisfied: pooch>=1.0 in /usr/local/lib/python3.8/dist-packages (from librosa->-r requirements/optional.txt (line 4)) (1.6.0)\n",
            "Requirement already satisfied: numba>=0.43.0 in /usr/local/lib/python3.8/dist-packages (from librosa->-r requirements/optional.txt (line 4)) (0.56.4)\n",
            "Requirement already satisfied: scikit-learn!=0.19.0,>=0.14.0 in /usr/local/lib/python3.8/dist-packages (from librosa->-r requirements/optional.txt (line 4)) (1.0.2)\n",
            "Requirement already satisfied: resampy>=0.2.2 in /usr/local/lib/python3.8/dist-packages (from librosa->-r requirements/optional.txt (line 4)) (0.4.2)\n",
            "Collecting protobuf<4,>=3.20.2\n",
            "  Downloading protobuf-3.20.3-cp38-cp38-manylinux_2_5_x86_64.manylinux1_x86_64.whl (1.0 MB)\n",
            "\u001b[2K     \u001b[90m━━━━━━━━━━━━━━━━━━━━━━━━━━━━━━━━━━━━━━━━\u001b[0m \u001b[32m1.0/1.0 MB\u001b[0m \u001b[31m72.9 MB/s\u001b[0m eta \u001b[36m0:00:00\u001b[0m\n",
            "\u001b[?25hRequirement already satisfied: typing-extensions>=3.6.2.1 in /usr/local/lib/python3.8/dist-packages (from onnx->-r requirements/optional.txt (line 7)) (4.4.0)\n",
            "Collecting coloredlogs\n",
            "  Downloading coloredlogs-15.0.1-py2.py3-none-any.whl (46 kB)\n",
            "\u001b[2K     \u001b[90m━━━━━━━━━━━━━━━━━━━━━━━━━━━━━━━━━━━━━━━━\u001b[0m \u001b[32m46.0/46.0 KB\u001b[0m \u001b[31m6.9 MB/s\u001b[0m eta \u001b[36m0:00:00\u001b[0m\n",
            "\u001b[?25hRequirement already satisfied: sympy in /usr/local/lib/python3.8/dist-packages (from onnxruntime->-r requirements/optional.txt (line 8)) (1.7.1)\n",
            "Requirement already satisfied: flatbuffers in /usr/local/lib/python3.8/dist-packages (from onnxruntime->-r requirements/optional.txt (line 8)) (1.12)\n",
            "Requirement already satisfied: pyparsing!=3.0.5,>=2.0.2 in /usr/local/lib/python3.8/dist-packages (from packaging->-r requirements/optional.txt (line 9)) (3.0.9)\n",
            "Collecting slicerator>=0.9.8\n",
            "  Downloading slicerator-1.1.0-py3-none-any.whl (10 kB)\n",
            "Requirement already satisfied: setuptools in /usr/local/lib/python3.8/dist-packages (from numba>=0.43.0->librosa->-r requirements/optional.txt (line 4)) (57.4.0)\n",
            "Requirement already satisfied: llvmlite<0.40,>=0.39.0dev0 in /usr/local/lib/python3.8/dist-packages (from numba>=0.43.0->librosa->-r requirements/optional.txt (line 4)) (0.39.1)\n",
            "Requirement already satisfied: importlib-metadata in /usr/local/lib/python3.8/dist-packages (from numba>=0.43.0->librosa->-r requirements/optional.txt (line 4)) (6.0.0)\n",
            "Requirement already satisfied: appdirs>=1.3.0 in /usr/local/lib/python3.8/dist-packages (from pooch>=1.0->librosa->-r requirements/optional.txt (line 4)) (1.4.4)\n",
            "Requirement already satisfied: idna<3,>=2.5 in /usr/local/lib/python3.8/dist-packages (from requests<3.0,>=2.8.1->moviepy==1.0.3->-r requirements/optional.txt (line 6)) (2.10)\n",
            "Requirement already satisfied: certifi>=2017.4.17 in /usr/local/lib/python3.8/dist-packages (from requests<3.0,>=2.8.1->moviepy==1.0.3->-r requirements/optional.txt (line 6)) (2022.12.7)\n",
            "Requirement already satisfied: chardet<5,>=3.0.2 in /usr/local/lib/python3.8/dist-packages (from requests<3.0,>=2.8.1->moviepy==1.0.3->-r requirements/optional.txt (line 6)) (4.0.0)\n",
            "Requirement already satisfied: urllib3<1.27,>=1.21.1 in /usr/local/lib/python3.8/dist-packages (from requests<3.0,>=2.8.1->moviepy==1.0.3->-r requirements/optional.txt (line 6)) (1.24.3)\n",
            "Requirement already satisfied: networkx>=2.0 in /usr/local/lib/python3.8/dist-packages (from scikit-image>=0.14.2->imgaug->-r requirements/optional.txt (line 3)) (3.0)\n",
            "Requirement already satisfied: tifffile>=2019.7.26 in /usr/local/lib/python3.8/dist-packages (from scikit-image>=0.14.2->imgaug->-r requirements/optional.txt (line 3)) (2022.10.10)\n",
            "Requirement already satisfied: PyWavelets>=1.1.1 in /usr/local/lib/python3.8/dist-packages (from scikit-image>=0.14.2->imgaug->-r requirements/optional.txt (line 3)) (1.4.1)\n",
            "Requirement already satisfied: python-dateutil>=2.1 in /usr/local/lib/python3.8/dist-packages (from matplotlib->imgaug->-r requirements/optional.txt (line 3)) (2.8.2)\n",
            "Requirement already satisfied: kiwisolver>=1.0.1 in /usr/local/lib/python3.8/dist-packages (from matplotlib->imgaug->-r requirements/optional.txt (line 3)) (1.4.4)\n",
            "Requirement already satisfied: cycler>=0.10 in /usr/local/lib/python3.8/dist-packages (from matplotlib->imgaug->-r requirements/optional.txt (line 3)) (0.11.0)\n",
            "Requirement already satisfied: threadpoolctl>=2.0.0 in /usr/local/lib/python3.8/dist-packages (from scikit-learn!=0.19.0,>=0.14.0->librosa->-r requirements/optional.txt (line 4)) (3.1.0)\n",
            "Requirement already satisfied: cffi>=1.0 in /usr/local/lib/python3.8/dist-packages (from soundfile>=0.10.2->librosa->-r requirements/optional.txt (line 4)) (1.15.1)\n",
            "Collecting humanfriendly>=9.1\n",
            "  Downloading humanfriendly-10.0-py2.py3-none-any.whl (86 kB)\n",
            "\u001b[2K     \u001b[90m━━━━━━━━━━━━━━━━━━━━━━━━━━━━━━━━━━━━━━━━\u001b[0m \u001b[32m86.8/86.8 KB\u001b[0m \u001b[31m9.5 MB/s\u001b[0m eta \u001b[36m0:00:00\u001b[0m\n",
            "\u001b[?25hRequirement already satisfied: mpmath>=0.19 in /usr/local/lib/python3.8/dist-packages (from sympy->onnxruntime->-r requirements/optional.txt (line 8)) (1.2.1)\n",
            "Requirement already satisfied: pycparser in /usr/local/lib/python3.8/dist-packages (from cffi>=1.0->soundfile>=0.10.2->librosa->-r requirements/optional.txt (line 4)) (2.21)\n",
            "Requirement already satisfied: zipp>=0.5 in /usr/local/lib/python3.8/dist-packages (from importlib-metadata->numba>=0.43.0->librosa->-r requirements/optional.txt (line 4)) (3.11.0)\n",
            "Building wheels for collected packages: moviepy, pims, PyTurboJPEG\n",
            "  Building wheel for moviepy (setup.py) ... \u001b[?25l\u001b[?25hdone\n",
            "  Created wheel for moviepy: filename=moviepy-1.0.3-py3-none-any.whl size=110742 sha256=cdcade15a707fd1fe812b3211f15751c6e69a949d8299e353bbe3cfea2e99445\n",
            "  Stored in directory: /root/.cache/pip/wheels/e4/a4/db/0368d3a04033da662e13926594b3a8cf1aa4ffeefe570cfac1\n",
            "  Building wheel for pims (setup.py) ... \u001b[?25l\u001b[?25hdone\n",
            "  Created wheel for pims: filename=PIMS-0.6.1-py3-none-any.whl size=82635 sha256=8c27fb3bad75f7826926bffaa28884c4103cbe687f232ea7180ab22ad75f53ea\n",
            "  Stored in directory: /root/.cache/pip/wheels/5c/bd/a9/9cede777cb4fcdd2ba712cdb0d0c9082aba544322eb5ad7af1\n",
            "  Building wheel for PyTurboJPEG (setup.py) ... \u001b[?25l\u001b[?25hdone\n",
            "  Created wheel for PyTurboJPEG: filename=PyTurboJPEG-1.7.0-py3-none-any.whl size=12213 sha256=aa04d998cf5ea13d63d12728bdaad2c4b0f3aeb6aab8476bdd700346e079435d\n",
            "  Stored in directory: /root/.cache/pip/wheels/65/06/f7/c4bea6c7cf67703207d799f44c13b99c2fdd329f72d6a9b5e8\n",
            "Successfully built moviepy pims PyTurboJPEG\n",
            "Installing collected packages: slicerator, av, PyTurboJPEG, protobuf, proglog, imageio_ffmpeg, humanfriendly, pims, onnx, moviepy, coloredlogs, onnxruntime\n",
            "  Attempting uninstall: protobuf\n",
            "    Found existing installation: protobuf 3.19.6\n",
            "    Uninstalling protobuf-3.19.6:\n",
            "      Successfully uninstalled protobuf-3.19.6\n",
            "  Attempting uninstall: moviepy\n",
            "    Found existing installation: moviepy 0.2.3.5\n",
            "    Uninstalling moviepy-0.2.3.5:\n",
            "      Successfully uninstalled moviepy-0.2.3.5\n",
            "\u001b[31mERROR: pip's dependency resolver does not currently take into account all the packages that are installed. This behaviour is the source of the following dependency conflicts.\n",
            "tensorflow 2.9.2 requires protobuf<3.20,>=3.9.2, but you have protobuf 3.20.3 which is incompatible.\n",
            "tensorboard 2.9.1 requires protobuf<3.20,>=3.9.2, but you have protobuf 3.20.3 which is incompatible.\u001b[0m\u001b[31m\n",
            "\u001b[0mSuccessfully installed PyTurboJPEG-1.7.0 av-10.0.0 coloredlogs-15.0.1 humanfriendly-10.0 imageio_ffmpeg-0.4.8 moviepy-1.0.3 onnx-1.13.0 onnxruntime-1.13.1 pims-0.6.1 proglog-0.1.10 protobuf-3.20.3 slicerator-1.1.0\n"
          ]
        }
      ]
    },
    {
      "cell_type": "code",
      "source": [
        "# Check Pytorch installation\n",
        "import torch, torchvision\n",
        "print('Torch : ', torch.__version__, torch.cuda.is_available())\n",
        "\n",
        "# Check MMAction2 installation\n",
        "import mmaction\n",
        "print('Mmaction2 : ', mmaction.__version__)\n",
        "\n",
        "# Check MMCV installation\n",
        "from mmcv.ops import get_compiling_cuda_version, get_compiler_version\n",
        "print('Cuda compiler : ', get_compiling_cuda_version())\n",
        "print('Compiler : ', get_compiler_version())"
      ],
      "metadata": {
        "colab": {
          "base_uri": "https://localhost:8080/"
        },
        "id": "ZX925m1R_r9w",
        "outputId": "2f54e508-ff21-4e81-ca77-f931baa6d2be"
      },
      "execution_count": 3,
      "outputs": [
        {
          "output_type": "stream",
          "name": "stdout",
          "text": [
            "Torch :  1.9.0+cu111 True\n",
            "Mmaction2 :  0.24.1\n",
            "Cuda compiler :  11.1\n",
            "Compiler :  GCC 7.3\n"
          ]
        },
        {
          "output_type": "stream",
          "name": "stderr",
          "text": [
            "/usr/local/lib/python3.8/dist-packages/mmcv/__init__.py:20: UserWarning: On January 1, 2023, MMCV will release v2.0.0, in which it will remove components related to the training process and add a data transformation module. In addition, it will rename the package names mmcv to mmcv-lite and mmcv-full to mmcv. See https://github.com/open-mmlab/mmcv/blob/master/docs/en/compatibility.md for more details.\n",
            "  warnings.warn(\n"
          ]
        }
      ]
    },
    {
      "cell_type": "markdown",
      "source": [
        "# **Custom Dataset**\n",
        "\n",
        "---\n",
        "\n"
      ],
      "metadata": {
        "id": "Jsn6ViRiAkI2"
      }
    },
    {
      "cell_type": "code",
      "source": [
        "from google.colab import drive\n",
        "drive.mount('/content/gdrive')"
      ],
      "metadata": {
        "colab": {
          "base_uri": "https://localhost:8080/"
        },
        "id": "jiTUT1NQAsgE",
        "outputId": "e32598ee-3342-4ef8-cb4b-472daac187ab"
      },
      "execution_count": 4,
      "outputs": [
        {
          "output_type": "stream",
          "name": "stdout",
          "text": [
            "Mounted at /content/gdrive\n"
          ]
        }
      ]
    },
    {
      "cell_type": "code",
      "source": [
        "%%writefile timesformer.py\n",
        "\n",
        "_base_ = ['./configs/_base_/default_runtime.py']\n",
        "\n",
        "# model settings\n",
        "model = dict(\n",
        "    type='Recognizer3D',\n",
        "    backbone=dict(\n",
        "        type='TimeSformer',\n",
        "        pretrained=  # noqa: E251\n",
        "        'https://download.openmmlab.com/mmaction/recognition/timesformer/vit_base_patch16_224.pth',  # noqa: E501\n",
        "        num_frames=8,\n",
        "        img_size=224,\n",
        "        patch_size=16,\n",
        "        embed_dims=768,\n",
        "        in_channels=3,\n",
        "        dropout_ratio=0.,\n",
        "        transformer_layers=None,\n",
        "        attention_type='space_only', # <----------------- How to change the model\n",
        "        norm_cfg=dict(type='LN', eps=1e-6)),\n",
        "    cls_head=dict(type='TimeSformerHead', num_classes=4, in_channels=768),\n",
        "    # model training and testing settings\n",
        "    train_cfg=None,\n",
        "    test_cfg=dict(average_clips='prob'))\n",
        "\n",
        "# dataset settings\n",
        "dataset_type = 'VideoDataset'\n",
        "data_root = '/content/gdrive/MyDrive/action_video/'\n",
        "data_root_val = '/content/gdrive/MyDrive/action_video/'\n",
        "ann_file_train = '/content/gdrive/MyDrive/action_annotations/train.txt'\n",
        "ann_file_val = '/content/gdrive/MyDrive/action_annotations/val.txt'\n",
        "ann_file_test = '/content/gdrive/MyDrive/action_annotations/test.txt'\n",
        "\n",
        "img_norm_cfg = dict(\n",
        "    mean=[127.5, 127.5, 127.5], std=[127.5, 127.5, 127.5], to_bgr=False)\n",
        "train_pipeline = [\n",
        "    dict(type='DecordInit'),\n",
        "    dict(type='SampleFrames', clip_len=8, frame_interval=32, num_clips=1),\n",
        "    dict(type='DecordDecode'),\n",
        "    dict(type='RandomRescale', scale_range=(256, 320)),\n",
        "    dict(type='RandomCrop', size=224),\n",
        "    dict(type='Flip', flip_ratio=0.5),\n",
        "    dict(\n",
        "        type='Normalize',\n",
        "        mean=[127.5, 127.5, 127.5],\n",
        "        std=[127.5, 127.5, 127.5],\n",
        "        to_bgr=False),\n",
        "    dict(type='FormatShape', input_format='NCTHW'),\n",
        "    dict(type='Collect', keys=['imgs', 'label'], meta_keys=[]),\n",
        "    dict(type='ToTensor', keys=['imgs', 'label'])\n",
        "]\n",
        "val_pipeline = [\n",
        "    dict(type='DecordInit'),\n",
        "    dict(\n",
        "        type='SampleFrames',\n",
        "        clip_len=8,\n",
        "        frame_interval=32,\n",
        "        num_clips=1,\n",
        "        test_mode=True),\n",
        "    dict(type='DecordDecode'),\n",
        "    dict(type='Resize', scale=(-1, 256)),\n",
        "    dict(type='CenterCrop', crop_size=224),\n",
        "    dict(\n",
        "        type='Normalize',\n",
        "        mean=[127.5, 127.5, 127.5],\n",
        "        std=[127.5, 127.5, 127.5],\n",
        "        to_bgr=False),\n",
        "    dict(type='FormatShape', input_format='NCTHW'),\n",
        "    dict(type='Collect', keys=['imgs', 'label'], meta_keys=[]),\n",
        "    dict(type='ToTensor', keys=['imgs', 'label'])\n",
        "]\n",
        "test_pipeline = [\n",
        "    dict(type='DecordInit'),\n",
        "    dict(\n",
        "        type='SampleFrames',\n",
        "        clip_len=8,\n",
        "        frame_interval=32,\n",
        "        num_clips=1,\n",
        "        test_mode=True),\n",
        "    dict(type='DecordDecode'),\n",
        "    dict(type='Resize', scale=(-1, 224)),\n",
        "    dict(type='ThreeCrop', crop_size=224),\n",
        "    dict(\n",
        "        type='Normalize',\n",
        "        mean=[127.5, 127.5, 127.5],\n",
        "        std=[127.5, 127.5, 127.5],\n",
        "        to_bgr=False),\n",
        "    dict(type='FormatShape', input_format='NCTHW'),\n",
        "    dict(type='Collect', keys=['imgs', 'label'], meta_keys=[]),\n",
        "    dict(type='ToTensor', keys=['imgs', 'label'])\n",
        "]\n",
        "data = dict(\n",
        "    videos_per_gpu=4, # <---------------- How to change the number of loaded videos on the GPU\n",
        "    workers_per_gpu=2,\n",
        "    test_dataloader=dict(videos_per_gpu=1),\n",
        "    train=dict(\n",
        "        type=dataset_type,\n",
        "        ann_file=ann_file_train,\n",
        "        data_prefix=data_root,\n",
        "        pipeline=train_pipeline),\n",
        "    val=dict(\n",
        "        type=dataset_type,\n",
        "        ann_file=ann_file_val,\n",
        "        data_prefix=data_root_val,\n",
        "        pipeline=val_pipeline),\n",
        "    test=dict(\n",
        "        type=dataset_type,\n",
        "        ann_file=ann_file_val,\n",
        "        data_prefix=data_root_val,\n",
        "        pipeline=test_pipeline))\n",
        "evaluation = dict(\n",
        "    interval=1, metrics=['top_k_accuracy', 'mean_class_accuracy'])\n",
        "\n",
        "# optimizer\n",
        "optimizer = dict(\n",
        "    type='SGD',\n",
        "    lr=0.005,\n",
        "    momentum=0.9,\n",
        "    paramwise_cfg=dict(\n",
        "        custom_keys={\n",
        "            '.backbone.cls_token': dict(decay_mult=0.0),\n",
        "            '.backbone.pos_embed': dict(decay_mult=0.0),\n",
        "            '.backbone.time_embed': dict(decay_mult=0.0)\n",
        "        }),\n",
        "    weight_decay=1e-4,\n",
        "    nesterov=True)  # this lr is used for 8 gpus\n",
        "optimizer_config = dict(grad_clip=dict(max_norm=40, norm_type=2))\n",
        "\n",
        "# learning policy\n",
        "lr_config = dict(policy='step', step=[5, 10])\n",
        "total_epochs = 5\n",
        "\n",
        "# runtime settings\n",
        "checkpoint_config = dict(interval=3)\n",
        "work_dir = './work_dirs/timesformer_divST_8x32x1_15e_kinetics400_rgb'"
      ],
      "metadata": {
        "colab": {
          "base_uri": "https://localhost:8080/"
        },
        "id": "HPjxFdxKBaXD",
        "outputId": "9a290357-23a6-4d08-ccef-d5cbb1b16e56"
      },
      "execution_count": 5,
      "outputs": [
        {
          "output_type": "stream",
          "name": "stdout",
          "text": [
            "Writing timesformer.py\n"
          ]
        }
      ]
    },
    {
      "cell_type": "code",
      "source": [
        "from mmcv import Config\n",
        "cfg = Config.fromfile('/content/mmaction2/timesformer.py')\n",
        "\n",
        "cfg.setdefault('omnisource', False)\n",
        "cfg.seed = 0\n",
        "cfg.gpu_ids = range(0, 1)"
      ],
      "metadata": {
        "id": "jInKKKLwEoRj"
      },
      "execution_count": 6,
      "outputs": []
    },
    {
      "cell_type": "markdown",
      "source": [
        "# **Train the recognizer**\n",
        "\n",
        "---\n",
        "\n"
      ],
      "metadata": {
        "id": "rhrUX717D7HC"
      }
    },
    {
      "cell_type": "code",
      "source": [
        "import os.path as osp\n",
        "from mmaction.datasets import build_dataset\n",
        "from mmaction.models import build_model\n",
        "from mmaction.apis import train_model\n",
        "import mmcv\n",
        "\n",
        "# Build the dataset\n",
        "datasets = [build_dataset(cfg.data.train)]\n",
        "\n",
        "# Build the recognizer\n",
        "model = build_model(cfg.model, \n",
        "                    train_cfg = cfg.get('train_cfg'), \n",
        "                    test_cfg = cfg.get('test_cfg'))\n",
        "\n",
        "# Create work_dir\n",
        "mmcv.mkdir_or_exist(osp.abspath(cfg.work_dir))\n",
        "train_model(model, \n",
        "            datasets, \n",
        "            cfg, \n",
        "            distributed=False, \n",
        "            validate=True)"
      ],
      "metadata": {
        "colab": {
          "base_uri": "https://localhost:8080/",
          "height": 1000,
          "referenced_widgets": [
            "287f2e8a198d40ea95c6d20d21382bc0",
            "97bb472f505d400bb8e17682b8713fe3",
            "f66c855adfeb4e5db31328b5f38989de",
            "410f747eca5c451f9fc278cfe6b3727a",
            "77ce828d994b47c39501d02b911ee67c",
            "d2f9fee5b9084b2d95f3df3661afcec0",
            "a6dd976b3797413982563d6baf0ff3ce",
            "8027ed0aa4c64467b1f410e17e1fac39",
            "781f9fdd2dde4bf2be7e358d47b38791",
            "46fef828414f48059b326a6dfa8298c0",
            "ead9119c38c34881b3cd835f0b50f231"
          ]
        },
        "id": "nWHRqAFrDoZ_",
        "outputId": "23cbfc1d-4d78-4539-c240-d09164ebfb77"
      },
      "execution_count": 7,
      "outputs": [
        {
          "output_type": "stream",
          "name": "stderr",
          "text": [
            "2023-01-21 16:12:12,442 - mmaction - INFO - load model from: https://download.openmmlab.com/mmaction/recognition/timesformer/vit_base_patch16_224.pth\n"
          ]
        },
        {
          "output_type": "stream",
          "name": "stdout",
          "text": [
            "load checkpoint from http path: https://download.openmmlab.com/mmaction/recognition/timesformer/vit_base_patch16_224.pth\n"
          ]
        },
        {
          "output_type": "stream",
          "name": "stderr",
          "text": [
            "Downloading: \"https://download.openmmlab.com/mmaction/recognition/timesformer/vit_base_patch16_224.pth\" to /root/.cache/torch/hub/checkpoints/vit_base_patch16_224.pth\n"
          ]
        },
        {
          "output_type": "display_data",
          "data": {
            "text/plain": [
              "  0%|          | 0.00/327M [00:00<?, ?B/s]"
            ],
            "application/vnd.jupyter.widget-view+json": {
              "version_major": 2,
              "version_minor": 0,
              "model_id": "287f2e8a198d40ea95c6d20d21382bc0"
            }
          },
          "metadata": {}
        },
        {
          "output_type": "stream",
          "name": "stderr",
          "text": [
            "2023-01-21 16:12:25,845 - mmaction - INFO - Start running, host: root@70a004a853ea, work_dir: /content/mmaction2/work_dirs/timesformer_divST_8x32x1_15e_kinetics400_rgb\n",
            "2023-01-21 16:12:25,846 - mmaction - INFO - Hooks will be executed in the following order:\n",
            "before_run:\n",
            "(VERY_HIGH   ) StepLrUpdaterHook                  \n",
            "(NORMAL      ) CheckpointHook                     \n",
            "(LOW         ) EvalHook                           \n",
            "(VERY_LOW    ) TextLoggerHook                     \n",
            " -------------------- \n",
            "before_train_epoch:\n",
            "(VERY_HIGH   ) StepLrUpdaterHook                  \n",
            "(LOW         ) IterTimerHook                      \n",
            "(LOW         ) EvalHook                           \n",
            "(VERY_LOW    ) TextLoggerHook                     \n",
            " -------------------- \n",
            "before_train_iter:\n",
            "(VERY_HIGH   ) StepLrUpdaterHook                  \n",
            "(LOW         ) IterTimerHook                      \n",
            "(LOW         ) EvalHook                           \n",
            " -------------------- \n",
            "after_train_iter:\n",
            "(ABOVE_NORMAL) OptimizerHook                      \n",
            "(NORMAL      ) CheckpointHook                     \n",
            "(LOW         ) IterTimerHook                      \n",
            "(LOW         ) EvalHook                           \n",
            "(VERY_LOW    ) TextLoggerHook                     \n",
            " -------------------- \n",
            "after_train_epoch:\n",
            "(NORMAL      ) CheckpointHook                     \n",
            "(LOW         ) EvalHook                           \n",
            "(VERY_LOW    ) TextLoggerHook                     \n",
            " -------------------- \n",
            "before_val_epoch:\n",
            "(LOW         ) IterTimerHook                      \n",
            "(VERY_LOW    ) TextLoggerHook                     \n",
            " -------------------- \n",
            "before_val_iter:\n",
            "(LOW         ) IterTimerHook                      \n",
            " -------------------- \n",
            "after_val_iter:\n",
            "(LOW         ) IterTimerHook                      \n",
            " -------------------- \n",
            "after_val_epoch:\n",
            "(VERY_LOW    ) TextLoggerHook                     \n",
            " -------------------- \n",
            "after_run:\n",
            "(VERY_LOW    ) TextLoggerHook                     \n",
            " -------------------- \n",
            "2023-01-21 16:12:25,847 - mmaction - INFO - workflow: [('train', 1)], max: 5 epochs\n",
            "2023-01-21 16:12:25,849 - mmaction - INFO - Checkpoints will be saved to /content/mmaction2/work_dirs/timesformer_divST_8x32x1_15e_kinetics400_rgb by HardDiskBackend.\n",
            "/usr/local/lib/python3.8/dist-packages/mmcv/runner/hooks/evaluation.py:226: UserWarning: runner.meta is None. Creating an empty one.\n",
            "  warnings.warn('runner.meta is None. Creating an empty one.')\n",
            "2023-01-21 16:13:11,157 - mmaction - INFO - Epoch [1][20/329]\tlr: 5.000e-03, eta: 1:01:19, time: 2.264, data_time: 1.266, memory: 6478, top1_acc: 0.3375, top5_acc: 1.0000, loss_cls: 2.0310, loss: 2.0310, grad_norm: 18.4012\n",
            "2023-01-21 16:13:44,996 - mmaction - INFO - Epoch [1][40/329]\tlr: 5.000e-03, eta: 0:52:54, time: 1.692, data_time: 0.676, memory: 6478, top1_acc: 0.3375, top5_acc: 1.0000, loss_cls: 1.8641, loss: 1.8641, grad_norm: 18.0440\n",
            "2023-01-21 16:14:19,437 - mmaction - INFO - Epoch [1][60/329]\tlr: 5.000e-03, eta: 0:50:00, time: 1.722, data_time: 0.672, memory: 6478, top1_acc: 0.4375, top5_acc: 1.0000, loss_cls: 1.4477, loss: 1.4477, grad_norm: 8.1215\n",
            "2023-01-21 16:14:54,457 - mmaction - INFO - Epoch [1][80/329]\tlr: 5.000e-03, eta: 0:48:26, time: 1.751, data_time: 0.649, memory: 6478, top1_acc: 0.3375, top5_acc: 1.0000, loss_cls: 1.3668, loss: 1.3668, grad_norm: 6.2575\n",
            "2023-01-21 16:15:28,974 - mmaction - INFO - Epoch [1][100/329]\tlr: 5.000e-03, eta: 0:47:08, time: 1.726, data_time: 0.616, memory: 6478, top1_acc: 0.5250, top5_acc: 1.0000, loss_cls: 1.1149, loss: 1.1149, grad_norm: 5.3878\n",
            "2023-01-21 16:16:04,293 - mmaction - INFO - Epoch [1][120/329]\tlr: 5.000e-03, eta: 0:46:15, time: 1.766, data_time: 0.673, memory: 6478, top1_acc: 0.5375, top5_acc: 1.0000, loss_cls: 1.1002, loss: 1.1002, grad_norm: 5.2389\n",
            "2023-01-21 16:16:38,185 - mmaction - INFO - Epoch [1][140/329]\tlr: 5.000e-03, eta: 0:45:12, time: 1.695, data_time: 0.584, memory: 6478, top1_acc: 0.4750, top5_acc: 1.0000, loss_cls: 0.9671, loss: 0.9671, grad_norm: 4.2693\n",
            "2023-01-21 16:17:11,481 - mmaction - INFO - Epoch [1][160/329]\tlr: 5.000e-03, eta: 0:44:10, time: 1.665, data_time: 0.574, memory: 6478, top1_acc: 0.6000, top5_acc: 1.0000, loss_cls: 1.0438, loss: 1.0438, grad_norm: 4.7514\n",
            "2023-01-21 16:17:46,336 - mmaction - INFO - Epoch [1][180/329]\tlr: 5.000e-03, eta: 0:43:28, time: 1.743, data_time: 0.644, memory: 6478, top1_acc: 0.5750, top5_acc: 1.0000, loss_cls: 0.8430, loss: 0.8430, grad_norm: 3.0966\n",
            "2023-01-21 16:18:20,535 - mmaction - INFO - Epoch [1][200/329]\tlr: 5.000e-03, eta: 0:42:42, time: 1.710, data_time: 0.617, memory: 6478, top1_acc: 0.4625, top5_acc: 1.0000, loss_cls: 0.9607, loss: 0.9607, grad_norm: 4.6100\n",
            "2023-01-21 16:18:54,487 - mmaction - INFO - Epoch [1][220/329]\tlr: 5.000e-03, eta: 0:41:57, time: 1.698, data_time: 0.601, memory: 6478, top1_acc: 0.6375, top5_acc: 1.0000, loss_cls: 0.7529, loss: 0.7529, grad_norm: 3.2545\n",
            "2023-01-21 16:19:28,464 - mmaction - INFO - Epoch [1][240/329]\tlr: 5.000e-03, eta: 0:41:13, time: 1.699, data_time: 0.606, memory: 6478, top1_acc: 0.6000, top5_acc: 1.0000, loss_cls: 0.8647, loss: 0.8647, grad_norm: 2.6293\n",
            "2023-01-21 16:20:03,379 - mmaction - INFO - Epoch [1][260/329]\tlr: 5.000e-03, eta: 0:40:37, time: 1.746, data_time: 0.649, memory: 6478, top1_acc: 0.4375, top5_acc: 1.0000, loss_cls: 1.0457, loss: 1.0457, grad_norm: 3.6959\n",
            "2023-01-21 16:20:37,814 - mmaction - INFO - Epoch [1][280/329]\tlr: 5.000e-03, eta: 0:39:58, time: 1.722, data_time: 0.620, memory: 6478, top1_acc: 0.5625, top5_acc: 1.0000, loss_cls: 0.8330, loss: 0.8330, grad_norm: 2.6266\n",
            "2023-01-21 16:21:11,608 - mmaction - INFO - Epoch [1][300/329]\tlr: 5.000e-03, eta: 0:39:17, time: 1.690, data_time: 0.588, memory: 6478, top1_acc: 0.5750, top5_acc: 1.0000, loss_cls: 0.8362, loss: 0.8362, grad_norm: 3.2259\n",
            "2023-01-21 16:21:45,350 - mmaction - INFO - Epoch [1][320/329]\tlr: 5.000e-03, eta: 0:38:36, time: 1.687, data_time: 0.586, memory: 6478, top1_acc: 0.4500, top5_acc: 1.0000, loss_cls: 0.9597, loss: 0.9597, grad_norm: 2.8602\n"
          ]
        },
        {
          "output_type": "stream",
          "name": "stdout",
          "text": [
            "[>>>>>>>>>>>>>>>>>>>>>>>>>>>>>>] 163/163, 2.3 task/s, elapsed: 70s, ETA:     0s"
          ]
        },
        {
          "output_type": "stream",
          "name": "stderr",
          "text": [
            "2023-01-21 16:23:09,907 - mmaction - INFO - Evaluating top_k_accuracy ...\n",
            "2023-01-21 16:23:09,913 - mmaction - INFO - \n",
            "top1_acc\t0.6258\n",
            "top5_acc\t1.0000\n",
            "2023-01-21 16:23:09,914 - mmaction - INFO - Evaluating mean_class_accuracy ...\n",
            "2023-01-21 16:23:09,924 - mmaction - INFO - \n",
            "mean_acc\t0.5452\n",
            "2023-01-21 16:23:14,562 - mmaction - INFO - Now best checkpoint is saved as best_top1_acc_epoch_1.pth.\n",
            "2023-01-21 16:23:14,564 - mmaction - INFO - Best top1_acc is 0.6258 at 1 epoch.\n",
            "2023-01-21 16:23:14,568 - mmaction - INFO - Epoch(val) [1][41]\ttop1_acc: 0.6258, top5_acc: 1.0000, mean_class_accuracy: 0.5452\n",
            "2023-01-21 16:23:40,471 - mmaction - INFO - Epoch [2][20/329]\tlr: 5.000e-03, eta: 0:36:13, time: 1.294, data_time: 0.131, memory: 6478, top1_acc: 0.6250, top5_acc: 1.0000, loss_cls: 0.8082, loss: 0.8082, grad_norm: 2.9033\n",
            "2023-01-21 16:24:03,121 - mmaction - INFO - Epoch [2][40/329]\tlr: 5.000e-03, eta: 0:35:02, time: 1.132, data_time: 0.001, memory: 6478, top1_acc: 0.6125, top5_acc: 1.0000, loss_cls: 0.9424, loss: 0.9424, grad_norm: 4.8302\n",
            "2023-01-21 16:24:25,146 - mmaction - INFO - Epoch [2][60/329]\tlr: 5.000e-03, eta: 0:33:54, time: 1.101, data_time: 0.001, memory: 6478, top1_acc: 0.5500, top5_acc: 1.0000, loss_cls: 0.9129, loss: 0.9129, grad_norm: 2.7607\n",
            "2023-01-21 16:24:47,377 - mmaction - INFO - Epoch [2][80/329]\tlr: 5.000e-03, eta: 0:32:51, time: 1.112, data_time: 0.001, memory: 6478, top1_acc: 0.6125, top5_acc: 1.0000, loss_cls: 0.8215, loss: 0.8215, grad_norm: 2.7711\n",
            "2023-01-21 16:25:09,933 - mmaction - INFO - Epoch [2][100/329]\tlr: 5.000e-03, eta: 0:31:52, time: 1.128, data_time: 0.001, memory: 6478, top1_acc: 0.6375, top5_acc: 1.0000, loss_cls: 0.6918, loss: 0.6918, grad_norm: 2.0063\n",
            "2023-01-21 16:25:32,282 - mmaction - INFO - Epoch [2][120/329]\tlr: 5.000e-03, eta: 0:30:57, time: 1.117, data_time: 0.001, memory: 6478, top1_acc: 0.5625, top5_acc: 1.0000, loss_cls: 0.8262, loss: 0.8262, grad_norm: 2.6428\n",
            "2023-01-21 16:25:54,536 - mmaction - INFO - Epoch [2][140/329]\tlr: 5.000e-03, eta: 0:30:03, time: 1.113, data_time: 0.001, memory: 6478, top1_acc: 0.5250, top5_acc: 1.0000, loss_cls: 0.9609, loss: 0.9609, grad_norm: 2.7053\n",
            "2023-01-21 16:26:16,824 - mmaction - INFO - Epoch [2][160/329]\tlr: 5.000e-03, eta: 0:29:13, time: 1.114, data_time: 0.002, memory: 6478, top1_acc: 0.5500, top5_acc: 1.0000, loss_cls: 0.7866, loss: 0.7866, grad_norm: 2.6201\n",
            "2023-01-21 16:26:39,149 - mmaction - INFO - Epoch [2][180/329]\tlr: 5.000e-03, eta: 0:28:25, time: 1.116, data_time: 0.001, memory: 6478, top1_acc: 0.4500, top5_acc: 1.0000, loss_cls: 0.9533, loss: 0.9533, grad_norm: 3.8624\n",
            "2023-01-21 16:27:01,455 - mmaction - INFO - Epoch [2][200/329]\tlr: 5.000e-03, eta: 0:27:38, time: 1.115, data_time: 0.001, memory: 6478, top1_acc: 0.4250, top5_acc: 1.0000, loss_cls: 0.9928, loss: 0.9928, grad_norm: 3.5254\n",
            "2023-01-21 16:27:23,818 - mmaction - INFO - Epoch [2][220/329]\tlr: 5.000e-03, eta: 0:26:54, time: 1.118, data_time: 0.001, memory: 6478, top1_acc: 0.5125, top5_acc: 1.0000, loss_cls: 0.9023, loss: 0.9023, grad_norm: 2.6834\n",
            "2023-01-21 16:27:46,215 - mmaction - INFO - Epoch [2][240/329]\tlr: 5.000e-03, eta: 0:26:11, time: 1.120, data_time: 0.001, memory: 6478, top1_acc: 0.4625, top5_acc: 1.0000, loss_cls: 0.9837, loss: 0.9837, grad_norm: 2.8352\n",
            "2023-01-21 16:28:08,636 - mmaction - INFO - Epoch [2][260/329]\tlr: 5.000e-03, eta: 0:25:30, time: 1.121, data_time: 0.001, memory: 6478, top1_acc: 0.6750, top5_acc: 1.0000, loss_cls: 0.6911, loss: 0.6911, grad_norm: 2.8112\n",
            "2023-01-21 16:28:31,078 - mmaction - INFO - Epoch [2][280/329]\tlr: 5.000e-03, eta: 0:24:50, time: 1.122, data_time: 0.001, memory: 6478, top1_acc: 0.6375, top5_acc: 1.0000, loss_cls: 0.7222, loss: 0.7222, grad_norm: 1.9189\n",
            "2023-01-21 16:28:53,538 - mmaction - INFO - Epoch [2][300/329]\tlr: 5.000e-03, eta: 0:24:11, time: 1.123, data_time: 0.001, memory: 6478, top1_acc: 0.5750, top5_acc: 1.0000, loss_cls: 0.7174, loss: 0.7174, grad_norm: 1.9625\n",
            "2023-01-21 16:29:16,007 - mmaction - INFO - Epoch [2][320/329]\tlr: 5.000e-03, eta: 0:23:33, time: 1.123, data_time: 0.002, memory: 6478, top1_acc: 0.6000, top5_acc: 1.0000, loss_cls: 0.7330, loss: 0.7330, grad_norm: 2.1643\n"
          ]
        },
        {
          "output_type": "stream",
          "name": "stdout",
          "text": [
            "[>>>>>>>>>>>>>>>>>>>>>>>>>>>>>>] 163/163, 9.4 task/s, elapsed: 17s, ETA:     0s"
          ]
        },
        {
          "output_type": "stream",
          "name": "stderr",
          "text": [
            "2023-01-21 16:29:43,778 - mmaction - INFO - Evaluating top_k_accuracy ...\n",
            "2023-01-21 16:29:43,784 - mmaction - INFO - \n",
            "top1_acc\t0.6380\n",
            "top5_acc\t1.0000\n",
            "2023-01-21 16:29:43,785 - mmaction - INFO - Evaluating mean_class_accuracy ...\n",
            "2023-01-21 16:29:43,792 - mmaction - INFO - \n",
            "mean_acc\t0.5338\n",
            "2023-01-21 16:29:43,888 - mmaction - INFO - The previous best checkpoint /content/mmaction2/work_dirs/timesformer_divST_8x32x1_15e_kinetics400_rgb/best_top1_acc_epoch_1.pth was removed\n",
            "2023-01-21 16:29:47,825 - mmaction - INFO - Now best checkpoint is saved as best_top1_acc_epoch_2.pth.\n",
            "2023-01-21 16:29:47,827 - mmaction - INFO - Best top1_acc is 0.6380 at 2 epoch.\n",
            "2023-01-21 16:29:47,835 - mmaction - INFO - Epoch(val) [2][41]\ttop1_acc: 0.6380, top5_acc: 1.0000, mean_class_accuracy: 0.5338\n",
            "2023-01-21 16:30:12,706 - mmaction - INFO - Epoch [3][20/329]\tlr: 5.000e-03, eta: 0:22:28, time: 1.242, data_time: 0.127, memory: 6478, top1_acc: 0.6000, top5_acc: 1.0000, loss_cls: 0.7659, loss: 0.7659, grad_norm: 1.9444\n",
            "2023-01-21 16:30:35,482 - mmaction - INFO - Epoch [3][40/329]\tlr: 5.000e-03, eta: 0:21:54, time: 1.139, data_time: 0.001, memory: 6478, top1_acc: 0.6125, top5_acc: 1.0000, loss_cls: 0.7060, loss: 0.7060, grad_norm: 3.6071\n",
            "2023-01-21 16:30:57,819 - mmaction - INFO - Epoch [3][60/329]\tlr: 5.000e-03, eta: 0:21:19, time: 1.117, data_time: 0.001, memory: 6478, top1_acc: 0.5625, top5_acc: 1.0000, loss_cls: 0.9208, loss: 0.9208, grad_norm: 3.7149\n",
            "2023-01-21 16:31:20,089 - mmaction - INFO - Epoch [3][80/329]\tlr: 5.000e-03, eta: 0:20:45, time: 1.114, data_time: 0.001, memory: 6478, top1_acc: 0.5375, top5_acc: 1.0000, loss_cls: 0.8815, loss: 0.8815, grad_norm: 3.5582\n",
            "2023-01-21 16:31:42,399 - mmaction - INFO - Epoch [3][100/329]\tlr: 5.000e-03, eta: 0:20:11, time: 1.116, data_time: 0.002, memory: 6478, top1_acc: 0.3750, top5_acc: 1.0000, loss_cls: 1.1221, loss: 1.1221, grad_norm: 6.0025\n",
            "2023-01-21 16:32:04,632 - mmaction - INFO - Epoch [3][120/329]\tlr: 5.000e-03, eta: 0:19:38, time: 1.111, data_time: 0.002, memory: 6478, top1_acc: 0.5125, top5_acc: 1.0000, loss_cls: 0.9969, loss: 0.9969, grad_norm: 2.9092\n",
            "2023-01-21 16:32:26,926 - mmaction - INFO - Epoch [3][140/329]\tlr: 5.000e-03, eta: 0:19:06, time: 1.115, data_time: 0.001, memory: 6478, top1_acc: 0.5500, top5_acc: 1.0000, loss_cls: 0.8725, loss: 0.8725, grad_norm: 2.9944\n",
            "2023-01-21 16:32:49,251 - mmaction - INFO - Epoch [3][160/329]\tlr: 5.000e-03, eta: 0:18:34, time: 1.116, data_time: 0.001, memory: 6478, top1_acc: 0.5500, top5_acc: 1.0000, loss_cls: 0.9586, loss: 0.9586, grad_norm: 2.6477\n",
            "2023-01-21 16:33:11,597 - mmaction - INFO - Epoch [3][180/329]\tlr: 5.000e-03, eta: 0:18:03, time: 1.117, data_time: 0.001, memory: 6478, top1_acc: 0.5875, top5_acc: 1.0000, loss_cls: 0.8123, loss: 0.8123, grad_norm: 2.8949\n",
            "2023-01-21 16:33:33,974 - mmaction - INFO - Epoch [3][200/329]\tlr: 5.000e-03, eta: 0:17:32, time: 1.119, data_time: 0.001, memory: 6478, top1_acc: 0.5500, top5_acc: 1.0000, loss_cls: 0.7960, loss: 0.7960, grad_norm: 2.9640\n",
            "2023-01-21 16:33:56,333 - mmaction - INFO - Epoch [3][220/329]\tlr: 5.000e-03, eta: 0:17:01, time: 1.118, data_time: 0.001, memory: 6478, top1_acc: 0.5750, top5_acc: 1.0000, loss_cls: 0.8780, loss: 0.8780, grad_norm: 3.7084\n",
            "2023-01-21 16:34:18,751 - mmaction - INFO - Epoch [3][240/329]\tlr: 5.000e-03, eta: 0:16:31, time: 1.121, data_time: 0.001, memory: 6478, top1_acc: 0.6500, top5_acc: 1.0000, loss_cls: 0.8066, loss: 0.8066, grad_norm: 2.8540\n",
            "2023-01-21 16:34:41,170 - mmaction - INFO - Epoch [3][260/329]\tlr: 5.000e-03, eta: 0:16:01, time: 1.121, data_time: 0.002, memory: 6478, top1_acc: 0.5875, top5_acc: 1.0000, loss_cls: 0.7943, loss: 0.7943, grad_norm: 1.9613\n",
            "2023-01-21 16:35:03,582 - mmaction - INFO - Epoch [3][280/329]\tlr: 5.000e-03, eta: 0:15:32, time: 1.121, data_time: 0.001, memory: 6478, top1_acc: 0.6000, top5_acc: 1.0000, loss_cls: 0.8017, loss: 0.8017, grad_norm: 1.9450\n",
            "2023-01-21 16:35:26,013 - mmaction - INFO - Epoch [3][300/329]\tlr: 5.000e-03, eta: 0:15:02, time: 1.122, data_time: 0.001, memory: 6478, top1_acc: 0.6750, top5_acc: 1.0000, loss_cls: 0.7162, loss: 0.7162, grad_norm: 2.4249\n",
            "2023-01-21 16:35:48,400 - mmaction - INFO - Epoch [3][320/329]\tlr: 5.000e-03, eta: 0:14:33, time: 1.119, data_time: 0.001, memory: 6478, top1_acc: 0.5750, top5_acc: 1.0000, loss_cls: 0.7657, loss: 0.7657, grad_norm: 2.4305\n",
            "2023-01-21 16:35:58,622 - mmaction - INFO - Saving checkpoint at 3 epochs\n"
          ]
        },
        {
          "output_type": "stream",
          "name": "stdout",
          "text": [
            "[>>>>>>>>>>>>>>>>>>>>>>>>>>>>>>] 163/163, 9.4 task/s, elapsed: 17s, ETA:     0s"
          ]
        },
        {
          "output_type": "stream",
          "name": "stderr",
          "text": [
            "2023-01-21 16:36:20,411 - mmaction - INFO - Evaluating top_k_accuracy ...\n",
            "2023-01-21 16:36:20,413 - mmaction - INFO - \n",
            "top1_acc\t0.6503\n",
            "top5_acc\t1.0000\n",
            "2023-01-21 16:36:20,416 - mmaction - INFO - Evaluating mean_class_accuracy ...\n",
            "2023-01-21 16:36:20,418 - mmaction - INFO - \n",
            "mean_acc\t0.5704\n",
            "2023-01-21 16:36:20,478 - mmaction - INFO - The previous best checkpoint /content/mmaction2/work_dirs/timesformer_divST_8x32x1_15e_kinetics400_rgb/best_top1_acc_epoch_2.pth was removed\n",
            "2023-01-21 16:36:24,356 - mmaction - INFO - Now best checkpoint is saved as best_top1_acc_epoch_3.pth.\n",
            "2023-01-21 16:36:24,359 - mmaction - INFO - Best top1_acc is 0.6503 at 3 epoch.\n",
            "2023-01-21 16:36:24,367 - mmaction - INFO - Epoch(val) [3][41]\ttop1_acc: 0.6503, top5_acc: 1.0000, mean_class_accuracy: 0.5704\n",
            "2023-01-21 16:36:49,863 - mmaction - INFO - Epoch [4][20/329]\tlr: 5.000e-03, eta: 0:13:47, time: 1.271, data_time: 0.136, memory: 6478, top1_acc: 0.6500, top5_acc: 1.0000, loss_cls: 0.7453, loss: 0.7453, grad_norm: 1.9470\n",
            "2023-01-21 16:37:12,573 - mmaction - INFO - Epoch [4][40/329]\tlr: 5.000e-03, eta: 0:13:20, time: 1.135, data_time: 0.001, memory: 6478, top1_acc: 0.5875, top5_acc: 1.0000, loss_cls: 0.8298, loss: 0.8298, grad_norm: 3.3619\n",
            "2023-01-21 16:37:34,737 - mmaction - INFO - Epoch [4][60/329]\tlr: 5.000e-03, eta: 0:12:52, time: 1.108, data_time: 0.001, memory: 6478, top1_acc: 0.6250, top5_acc: 1.0000, loss_cls: 0.8582, loss: 0.8582, grad_norm: 4.7506\n",
            "2023-01-21 16:37:56,934 - mmaction - INFO - Epoch [4][80/329]\tlr: 5.000e-03, eta: 0:12:24, time: 1.110, data_time: 0.001, memory: 6478, top1_acc: 0.6000, top5_acc: 1.0000, loss_cls: 0.8752, loss: 0.8752, grad_norm: 3.1279\n",
            "2023-01-21 16:38:19,348 - mmaction - INFO - Epoch [4][100/329]\tlr: 5.000e-03, eta: 0:11:56, time: 1.121, data_time: 0.001, memory: 6478, top1_acc: 0.5500, top5_acc: 1.0000, loss_cls: 0.8199, loss: 0.8199, grad_norm: 2.3184\n",
            "2023-01-21 16:38:41,721 - mmaction - INFO - Epoch [4][120/329]\tlr: 5.000e-03, eta: 0:11:29, time: 1.119, data_time: 0.001, memory: 6478, top1_acc: 0.5625, top5_acc: 1.0000, loss_cls: 0.7735, loss: 0.7735, grad_norm: 1.8890\n",
            "2023-01-21 16:39:04,038 - mmaction - INFO - Epoch [4][140/329]\tlr: 5.000e-03, eta: 0:11:02, time: 1.116, data_time: 0.001, memory: 6478, top1_acc: 0.6750, top5_acc: 1.0000, loss_cls: 0.6872, loss: 0.6872, grad_norm: 1.7516\n",
            "2023-01-21 16:39:26,314 - mmaction - INFO - Epoch [4][160/329]\tlr: 5.000e-03, eta: 0:10:35, time: 1.114, data_time: 0.001, memory: 6478, top1_acc: 0.7125, top5_acc: 1.0000, loss_cls: 0.6820, loss: 0.6820, grad_norm: 2.0696\n",
            "2023-01-21 16:39:48,587 - mmaction - INFO - Epoch [4][180/329]\tlr: 5.000e-03, eta: 0:10:08, time: 1.114, data_time: 0.002, memory: 6478, top1_acc: 0.5500, top5_acc: 1.0000, loss_cls: 0.8343, loss: 0.8343, grad_norm: 1.8884\n",
            "2023-01-21 16:40:10,873 - mmaction - INFO - Epoch [4][200/329]\tlr: 5.000e-03, eta: 0:09:41, time: 1.114, data_time: 0.001, memory: 6478, top1_acc: 0.5500, top5_acc: 1.0000, loss_cls: 0.7794, loss: 0.7794, grad_norm: 2.0226\n",
            "2023-01-21 16:40:33,164 - mmaction - INFO - Epoch [4][220/329]\tlr: 5.000e-03, eta: 0:09:15, time: 1.115, data_time: 0.001, memory: 6478, top1_acc: 0.6375, top5_acc: 1.0000, loss_cls: 0.7536, loss: 0.7536, grad_norm: 1.9816\n",
            "2023-01-21 16:40:55,482 - mmaction - INFO - Epoch [4][240/329]\tlr: 5.000e-03, eta: 0:08:48, time: 1.116, data_time: 0.001, memory: 6478, top1_acc: 0.6125, top5_acc: 1.0000, loss_cls: 0.7470, loss: 0.7470, grad_norm: 1.8124\n",
            "2023-01-21 16:41:17,804 - mmaction - INFO - Epoch [4][260/329]\tlr: 5.000e-03, eta: 0:08:22, time: 1.116, data_time: 0.001, memory: 6478, top1_acc: 0.6125, top5_acc: 1.0000, loss_cls: 0.7330, loss: 0.7330, grad_norm: 1.7252\n",
            "2023-01-21 16:41:40,167 - mmaction - INFO - Epoch [4][280/329]\tlr: 5.000e-03, eta: 0:07:56, time: 1.118, data_time: 0.001, memory: 6478, top1_acc: 0.5875, top5_acc: 1.0000, loss_cls: 0.7446, loss: 0.7446, grad_norm: 1.8470\n",
            "2023-01-21 16:42:02,546 - mmaction - INFO - Epoch [4][300/329]\tlr: 5.000e-03, eta: 0:07:30, time: 1.119, data_time: 0.001, memory: 6478, top1_acc: 0.5375, top5_acc: 1.0000, loss_cls: 0.8086, loss: 0.8086, grad_norm: 2.7319\n",
            "2023-01-21 16:42:24,906 - mmaction - INFO - Epoch [4][320/329]\tlr: 5.000e-03, eta: 0:07:04, time: 1.118, data_time: 0.002, memory: 6478, top1_acc: 0.5625, top5_acc: 1.0000, loss_cls: 0.7510, loss: 0.7510, grad_norm: 2.7796\n"
          ]
        },
        {
          "output_type": "stream",
          "name": "stdout",
          "text": [
            "[>>>>>>>>>>>>>>>>>>>>>>>>>>>>>>] 163/163, 9.4 task/s, elapsed: 17s, ETA:     0s"
          ]
        },
        {
          "output_type": "stream",
          "name": "stderr",
          "text": [
            "2023-01-21 16:42:52,696 - mmaction - INFO - Evaluating top_k_accuracy ...\n",
            "2023-01-21 16:42:52,701 - mmaction - INFO - \n",
            "top1_acc\t0.6074\n",
            "top5_acc\t1.0000\n",
            "2023-01-21 16:42:52,702 - mmaction - INFO - Evaluating mean_class_accuracy ...\n",
            "2023-01-21 16:42:52,708 - mmaction - INFO - \n",
            "mean_acc\t0.5649\n",
            "2023-01-21 16:42:52,710 - mmaction - INFO - Epoch(val) [4][41]\ttop1_acc: 0.6074, top5_acc: 1.0000, mean_class_accuracy: 0.5649\n",
            "2023-01-21 16:43:17,605 - mmaction - INFO - Epoch [5][20/329]\tlr: 5.000e-03, eta: 0:06:25, time: 1.244, data_time: 0.128, memory: 6478, top1_acc: 0.6500, top5_acc: 1.0000, loss_cls: 0.6963, loss: 0.6963, grad_norm: 1.9360\n",
            "2023-01-21 16:43:40,097 - mmaction - INFO - Epoch [5][40/329]\tlr: 5.000e-03, eta: 0:06:00, time: 1.125, data_time: 0.001, memory: 6478, top1_acc: 0.6500, top5_acc: 1.0000, loss_cls: 0.7440, loss: 0.7440, grad_norm: 1.9745\n",
            "2023-01-21 16:44:02,393 - mmaction - INFO - Epoch [5][60/329]\tlr: 5.000e-03, eta: 0:05:34, time: 1.115, data_time: 0.001, memory: 6478, top1_acc: 0.6125, top5_acc: 1.0000, loss_cls: 0.7799, loss: 0.7799, grad_norm: 2.4914\n",
            "2023-01-21 16:44:24,638 - mmaction - INFO - Epoch [5][80/329]\tlr: 5.000e-03, eta: 0:05:09, time: 1.112, data_time: 0.001, memory: 6478, top1_acc: 0.6000, top5_acc: 1.0000, loss_cls: 0.7291, loss: 0.7291, grad_norm: 2.2153\n",
            "2023-01-21 16:44:46,924 - mmaction - INFO - Epoch [5][100/329]\tlr: 5.000e-03, eta: 0:04:44, time: 1.114, data_time: 0.001, memory: 6478, top1_acc: 0.5875, top5_acc: 1.0000, loss_cls: 0.7946, loss: 0.7946, grad_norm: 2.1428\n",
            "2023-01-21 16:45:09,227 - mmaction - INFO - Epoch [5][120/329]\tlr: 5.000e-03, eta: 0:04:18, time: 1.115, data_time: 0.001, memory: 6478, top1_acc: 0.6000, top5_acc: 1.0000, loss_cls: 0.7638, loss: 0.7638, grad_norm: 2.2772\n",
            "2023-01-21 16:45:31,534 - mmaction - INFO - Epoch [5][140/329]\tlr: 5.000e-03, eta: 0:03:53, time: 1.115, data_time: 0.001, memory: 6478, top1_acc: 0.6125, top5_acc: 1.0000, loss_cls: 0.8425, loss: 0.8425, grad_norm: 4.6642\n",
            "2023-01-21 16:45:53,846 - mmaction - INFO - Epoch [5][160/329]\tlr: 5.000e-03, eta: 0:03:28, time: 1.115, data_time: 0.001, memory: 6478, top1_acc: 0.6000, top5_acc: 1.0000, loss_cls: 0.8116, loss: 0.8116, grad_norm: 3.1908\n",
            "2023-01-21 16:46:16,204 - mmaction - INFO - Epoch [5][180/329]\tlr: 5.000e-03, eta: 0:03:03, time: 1.118, data_time: 0.001, memory: 6478, top1_acc: 0.6000, top5_acc: 1.0000, loss_cls: 0.8287, loss: 0.8287, grad_norm: 2.6123\n",
            "2023-01-21 16:46:38,566 - mmaction - INFO - Epoch [5][200/329]\tlr: 5.000e-03, eta: 0:02:38, time: 1.118, data_time: 0.001, memory: 6478, top1_acc: 0.6250, top5_acc: 1.0000, loss_cls: 0.6901, loss: 0.6901, grad_norm: 2.4061\n",
            "2023-01-21 16:47:00,959 - mmaction - INFO - Epoch [5][220/329]\tlr: 5.000e-03, eta: 0:02:14, time: 1.120, data_time: 0.001, memory: 6478, top1_acc: 0.5500, top5_acc: 1.0000, loss_cls: 0.8256, loss: 0.8256, grad_norm: 2.6730\n",
            "2023-01-21 16:47:23,349 - mmaction - INFO - Epoch [5][240/329]\tlr: 5.000e-03, eta: 0:01:49, time: 1.120, data_time: 0.001, memory: 6478, top1_acc: 0.6375, top5_acc: 1.0000, loss_cls: 0.7714, loss: 0.7714, grad_norm: 3.3958\n",
            "2023-01-21 16:47:45,786 - mmaction - INFO - Epoch [5][260/329]\tlr: 5.000e-03, eta: 0:01:24, time: 1.122, data_time: 0.002, memory: 6478, top1_acc: 0.6125, top5_acc: 1.0000, loss_cls: 0.8223, loss: 0.8223, grad_norm: 3.4826\n",
            "2023-01-21 16:48:08,255 - mmaction - INFO - Epoch [5][280/329]\tlr: 5.000e-03, eta: 0:01:00, time: 1.123, data_time: 0.001, memory: 6478, top1_acc: 0.7000, top5_acc: 1.0000, loss_cls: 0.6975, loss: 0.6975, grad_norm: 2.3564\n",
            "2023-01-21 16:48:30,721 - mmaction - INFO - Epoch [5][300/329]\tlr: 5.000e-03, eta: 0:00:35, time: 1.123, data_time: 0.001, memory: 6478, top1_acc: 0.6250, top5_acc: 1.0000, loss_cls: 0.6636, loss: 0.6636, grad_norm: 2.2774\n",
            "2023-01-21 16:48:53,216 - mmaction - INFO - Epoch [5][320/329]\tlr: 5.000e-03, eta: 0:00:11, time: 1.125, data_time: 0.001, memory: 6478, top1_acc: 0.6125, top5_acc: 1.0000, loss_cls: 0.7156, loss: 0.7156, grad_norm: 2.7529\n",
            "2023-01-21 16:49:03,477 - mmaction - INFO - Saving checkpoint at 5 epochs\n"
          ]
        },
        {
          "output_type": "stream",
          "name": "stdout",
          "text": [
            "[>>>>>>>>>>>>>>>>>>>>>>>>>>>>>>] 163/163, 9.3 task/s, elapsed: 17s, ETA:     0s"
          ]
        },
        {
          "output_type": "stream",
          "name": "stderr",
          "text": [
            "2023-01-21 16:49:25,065 - mmaction - INFO - Evaluating top_k_accuracy ...\n",
            "2023-01-21 16:49:25,067 - mmaction - INFO - \n",
            "top1_acc\t0.7239\n",
            "top5_acc\t1.0000\n",
            "2023-01-21 16:49:25,070 - mmaction - INFO - Evaluating mean_class_accuracy ...\n",
            "2023-01-21 16:49:25,072 - mmaction - INFO - \n",
            "mean_acc\t0.6606\n",
            "2023-01-21 16:49:25,178 - mmaction - INFO - The previous best checkpoint /content/mmaction2/work_dirs/timesformer_divST_8x32x1_15e_kinetics400_rgb/best_top1_acc_epoch_3.pth was removed\n",
            "2023-01-21 16:49:29,142 - mmaction - INFO - Now best checkpoint is saved as best_top1_acc_epoch_5.pth.\n",
            "2023-01-21 16:49:29,145 - mmaction - INFO - Best top1_acc is 0.7239 at 5 epoch.\n",
            "2023-01-21 16:49:29,148 - mmaction - INFO - Epoch(val) [5][41]\ttop1_acc: 0.7239, top5_acc: 1.0000, mean_class_accuracy: 0.6606\n"
          ]
        }
      ]
    },
    {
      "cell_type": "markdown",
      "source": [
        "# **Test the recognizer**\n",
        "\n",
        "---\n",
        "\n"
      ],
      "metadata": {
        "id": "1TBS4O0pIURV"
      }
    },
    {
      "cell_type": "code",
      "source": [
        "from mmaction.apis import single_gpu_test\n",
        "from mmaction.datasets import build_dataloader\n",
        "from mmcv.parallel import MMDataParallel\n",
        "\n",
        "# Build a test dataloader\n",
        "dataset = build_dataset(cfg.data.test, dict(test_mode=True))\n",
        "data_loader = build_dataloader(\n",
        "        dataset,\n",
        "        videos_per_gpu=2,\n",
        "        workers_per_gpu=cfg.data.workers_per_gpu,\n",
        "        dist=False,\n",
        "        shuffle=False)\n",
        "model = MMDataParallel(model, device_ids=[0])\n",
        "outputs = single_gpu_test(model, data_loader)\n",
        "\n",
        "\n",
        "eval_config = cfg.evaluation\n",
        "eval_config.pop('interval')\n",
        "eval_res = dataset.evaluate(outputs, **eval_config)\n",
        "for name, val in eval_res.items():\n",
        "    print(f'{name}: {val:.04f}')"
      ],
      "metadata": {
        "colab": {
          "base_uri": "https://localhost:8080/"
        },
        "id": "PnsYCc5FIe41",
        "outputId": "8744a4a4-c298-4713-f3f7-80c41593be65"
      },
      "execution_count": 8,
      "outputs": [
        {
          "output_type": "stream",
          "name": "stdout",
          "text": [
            "[>>>>>>>>>>>>>>>>>>>>>>>>>>>>>>] 163/163, 3.2 task/s, elapsed: 51s, ETA:     0s\n",
            "Evaluating top_k_accuracy ...\n",
            "\n",
            "top1_acc\t0.6994\n",
            "top5_acc\t1.0000\n",
            "\n",
            "Evaluating mean_class_accuracy ...\n",
            "\n",
            "mean_acc\t0.6180\n",
            "top1_acc: 0.6994\n",
            "top5_acc: 1.0000\n",
            "mean_class_accuracy: 0.6180\n"
          ]
        }
      ]
    },
    {
      "cell_type": "code",
      "source": [
        "!python tools/analysis/analyze_logs.py plot_curve /content/mmaction2/work_dirs/timesformer_divST_8x32x1_15e_kinetics400_rgb/None.log.json \\\n",
        "--keys top1_acc \\\n",
        "--out /content/mmaction2/work_dirs/timesformer_divST_8x32x1_15e_kinetics400_rgb/results.pdf \\\n",
        "--legend top1_acc"
      ],
      "metadata": {
        "id": "H2z3sL9Zl_-d"
      },
      "execution_count": null,
      "outputs": []
    }
  ]
}