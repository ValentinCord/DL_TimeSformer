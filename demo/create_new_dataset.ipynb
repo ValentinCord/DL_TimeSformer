{
  "nbformat": 4,
  "nbformat_minor": 0,
  "metadata": {
    "colab": {
      "provenance": [],
      "authorship_tag": "ABX9TyPt0UiZOYq/2CB5Zsh4G7uD",
      "include_colab_link": true
    },
    "kernelspec": {
      "name": "python3",
      "display_name": "Python 3"
    },
    "language_info": {
      "name": "python"
    }
  },
  "cells": [
    {
      "cell_type": "markdown",
      "metadata": {
        "id": "view-in-github",
        "colab_type": "text"
      },
      "source": [
        "<a href=\"https://colab.research.google.com/github/ValentinCord/DL_TimeSformer/blob/main/create_new_dataset.ipynb\" target=\"_parent\"><img src=\"https://colab.research.google.com/assets/colab-badge.svg\" alt=\"Open In Colab\"/></a>"
      ]
    },
    {
      "cell_type": "markdown",
      "source": [
        "# **Adding new dataset**\n",
        "\n",
        "Source : https://mmaction2.readthedocs.io/en/latest/tutorials/3_new_dataset.html\n"
      ],
      "metadata": {
        "id": "DfrMj15Q-4Sv"
      }
    },
    {
      "cell_type": "code",
      "execution_count": 1,
      "metadata": {
        "id": "gjfE2KFm54lf"
      },
      "outputs": [],
      "source": [
        "import os\n",
        "import shutil\n",
        "from tqdm import tqdm\n",
        "from google.colab import drive"
      ]
    },
    {
      "cell_type": "code",
      "source": [
        "drive.mount('/content/gdrive')\n",
        "drive_data_folder = '/content/gdrive/MyDrive/action_video/'"
      ],
      "metadata": {
        "id": "e3kmS9XP6ID8"
      },
      "execution_count": null,
      "outputs": []
    },
    {
      "cell_type": "code",
      "source": [
        "for dir in os.listdir(drive_data_folder):\n",
        "  print(dir, len(os.listdir(os.path.join(drive_data_folder, dir))))"
      ],
      "metadata": {
        "colab": {
          "base_uri": "https://localhost:8080/"
        },
        "id": "-f-6RuG-6MQh",
        "outputId": "b92c5c5a-0246-4745-9ad0-6099588f66b9"
      },
      "execution_count": 3,
      "outputs": [
        {
          "output_type": "stream",
          "name": "stdout",
          "text": [
            "Track-Excavator 352\n",
            "Bucket-Worker 468\n",
            "Cabin-Worker 320\n",
            "Other 504\n"
          ]
        }
      ]
    },
    {
      "cell_type": "code",
      "source": [
        "with open('action.txt', 'w') as f:\n",
        "  for i, dir in enumerate(os.listdir(drive_data_folder)):\n",
        "    for video in reversed(os.listdir(os.path.join(drive_data_folder, dir))):\n",
        "      f.write(f'{os.path.join(drive_data_folder, dir, video)} {i}\\n')"
      ],
      "metadata": {
        "id": "afjhrUck6QAE"
      },
      "execution_count": 4,
      "outputs": []
    },
    {
      "cell_type": "code",
      "source": [
        "!wc -l action.txt"
      ],
      "metadata": {
        "id": "1nbDpPPtAbf4",
        "colab": {
          "base_uri": "https://localhost:8080/"
        },
        "outputId": "0d6d0cde-49b4-4316-9b0d-74d8ac8c1c85"
      },
      "execution_count": 5,
      "outputs": [
        {
          "output_type": "stream",
          "name": "stdout",
          "text": [
            "1644 action.txt\n"
          ]
        }
      ]
    },
    {
      "cell_type": "code",
      "source": [
        "!shuf action.txt -o action.txt"
      ],
      "metadata": {
        "id": "z8xQ-2dyBEtU"
      },
      "execution_count": 7,
      "outputs": []
    },
    {
      "cell_type": "code",
      "source": [
        "!head -1444 action.txt > custom_train_list.txt\n",
        "!tail -200 action.txt > custom_val_list.txt"
      ],
      "metadata": {
        "id": "YZJar2nVApos"
      },
      "execution_count": 9,
      "outputs": []
    },
    {
      "cell_type": "code",
      "source": [
        "dataset_type = 'VideoDataset'\n",
        "data_root = 'content/data'\n",
        "ann_file_train = 'content/data/custom/custom_train_list.txt'\n",
        "ann_file_val = 'content/data/custom/custom_val_list.txt'\n",
        "ann_file_test = 'content/data/custom/custom_val_list.txt'"
      ],
      "metadata": {
        "id": "a25ELDwYB-xg"
      },
      "execution_count": null,
      "outputs": []
    }
  ]
}